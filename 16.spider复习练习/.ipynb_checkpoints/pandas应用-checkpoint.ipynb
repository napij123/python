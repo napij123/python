{
 "cells": [
  {
   "cell_type": "code",
   "execution_count": 28,
   "metadata": {},
   "outputs": [
    {
     "name": "stdout",
     "output_type": "stream",
     "text": [
      "[{'title': '习近平在黑龙江考察', 'url': 'http://www.ce.cn/xwzx/gnsz/szyw/201809/25/t20180925_30381640.shtml'}, {'title': '感慨北大荒沧桑巨变', 'url': 'http://www.ce.cn/xwzx/gnsz/szyw/201809/26/t20180926_30383434.shtml'}, {'title': '央行本月释放流动性超8000亿 未来降准仍可期', 'url': 'http://www.ce.cn/macro/more/201809/26/t20180926_30384505.shtml'}, {'title': '民企引入国资新股东是\"国进民退\"? 别乱扣帽子!', 'url': 'http://www.ce.cn/xwzx/gnsz/gdxw/201809/26/t20180926_30382396.shtml'}, {'title': '预算绩效管理全覆盖 花钱必问效、无效必问责', 'url': 'http://www.ce.cn/xwzx/gnsz/gdxw/201809/26/t20180926_30382315.shtml'}, {'title': '北京新版禁限目录发布 中央厨房、洗车等不禁限', 'url': 'http://www.ce.cn/xwzx/gnsz/gdxw/201809/26/t20180926_30386726.shtml'}, {'title': '以量换价!14省份药价谈判或10月底前完成', 'url': 'http://www.ce.cn/cysc/yy/hydt/201809/26/t20180926_30383484.shtml'}, {'title': '高通指控苹果窃取机密技术 帮竞争对手英特尔', 'url': 'http://www.ce.cn/cysc/tech/gd2012/201809/26/t20180926_30385323.shtml'}, {'title': '贾跃亭开始还钱解押', 'url': 'http://finance.ce.cn/stock/gsgdbd/201809/26/t20180926_30383819.shtml'}, {'title': '乐视网公告否认实控人变更', 'url': 'http://finance.ce.cn/stock/gsgdbd/201809/26/t20180926_30383984.shtml'}, {'title': 'ofo北京总部\"瘦身\":4层办公区变2层 否认裁员', 'url': 'http://finance.ce.cn/stock/gsgdbd/201809/26/t20180926_30383953.shtml'}, {'title': '不配合工商检查的无印良品回应了,', 'url': 'http://www.ce.cn/cysc/newmain/yc/jsxw/201809/26/t20180926_30383433.shtml'}, {'title': '抽检却变了味', 'url': 'http://views.ce.cn/view/ent/201809/26/t20180926_30383587.shtml'}, {'title': '明晟考虑将A股在MSCI指数权重由5%提至20%', 'url': 'http://finance.ce.cn/stock/gsgdbd/201809/26/t20180926_30386018.shtml'}, {'title': '沪伦通规则征言1个月后,华泰证券欲抢GDR首单', 'url': 'http://finance.ce.cn/stock/gsgdbd/201809/26/t20180926_30384254.shtml'}, {'title': '解盘:沪指发力涨逾1%', 'url': 'http://finance.ce.cn/zjjp/index.shtml'}, {'title': '海底捞H股上市一度涨超9%', 'url': 'http://finance.ce.cn/stock/gsgdbd/201809/26/t20180926_30386649.shtml'}, {'title': '\"最不赚钱\"新股诞生! 这只新股1签只赚1495元', 'url': 'http://finance.ce.cn/bank12/scroll/201809/26/t20180926_30383643.shtml'}, {'title': '年内多位拟任银行行长折在考试上 有人四次未过', 'url': 'http://finance.ce.cn/bank12/scroll/201809/26/t20180926_30383789.shtml'}, {'title': '特朗普联大演讲先吹捧政绩 引发哄笑(图)', 'url': 'http://intl.ce.cn/qqss/201809/26/t20180926_30385576.shtml'}, {'title': '这个省238名省管一把手被约谈,究竟所为何事?', 'url': 'http://www.ce.cn/xwzx/gnsz/gdxw/201809/26/t20180926_30383890.shtml'}, {'title': '广电总局:进一步调控治理真人秀、亲子类等节目', 'url': 'http://www.ce.cn/xwzx/gnsz/gdxw/201809/25/t20180925_30382166.shtml'}, {'title': '天宫二号已完成2年任务 明年7月以后受控离轨', 'url': 'http://www.ce.cn/xwzx/gnsz/gdxw/201809/26/t20180926_30386735.shtml'}, {'title': '甘肃兰州棚改项目立项4年仍未开建遭审计署点名', 'url': 'http://www.ce.cn/xwzx/gnsz/gdxw/201809/26/t20180926_30385591.shtml'}, {'title': '中国发表3.6万字白皮书,都回应了哪些问题', 'url': 'http://www.ce.cn/xwzx/gnsz/gdxw/201809/25/t20180925_30379444.shtml'}, {'title': '贸易战没赢家:美国大豆销路受阻 巴西大豆扩种', 'url': 'http://intl.ce.cn/sjjj/qy/201809/25/t20180925_30378772.shtml'}, {'title': '加价近千元仍一瓶难求 谁又在“炒”茅台？', 'url': 'http://www.ce.cn/cysc/sp/info/201809/25/t20180925_30379797.shtml'}, {'title': '茅台集团品牌价值达2375亿', 'url': 'http://www.ce.cn/cysc/sp/info/201809/19/t20180919_30338478.shtml'}, {'title': '白酒板块成长光环亮眼', 'url': 'http://finance.ce.cn/stock/gsgdbd/201809/15/t20180915_30308343.shtml'}]\n"
     ]
    }
   ],
   "source": [
    "'''\n",
    "selenium中获得a标签下的href，需要注意 //div[@class=\"TRS_Editor\"]/ul/li/a[@href]\n",
    "然后用.get_attribute(\"href\")来获取\n",
    "'''\n",
    "from selenium import webdriver\n",
    "from selenium.webdriver.chrome.options import Options\n",
    "\n",
    "chrome_options = Options()\n",
    "chrome_options.add_argument('--headless')\n",
    "driver = webdriver.Chrome(chrome_options=chrome_options)\n",
    "driver.get('http://www.ce.cn/')\n",
    "html = driver.page_source\n",
    "#print(html)\n",
    "title = []\n",
    "titles = driver.find_elements_by_xpath('//div[@class=\"TRS_Editor\"]/ul/li/a')\n",
    "for t in titles:\n",
    "    title.append(t.text)\n",
    "#print(title)\n",
    "\n",
    "href = []\n",
    "urls = driver.find_elements_by_xpath('//div[@class=\"TRS_Editor\"]/ul/li/a[@href]')\n",
    "\n",
    "for u in urls:\n",
    "    href.append(u.get_attribute(\"href\"))\n",
    "#print(href)\n",
    "news = []\n",
    "for t,u in zip(title,href):\n",
    "    date = {\n",
    "        'title':t,\n",
    "        'url':u\n",
    "    }\n",
    "    news.append(date)\n",
    "print(news)\n"
   ]
  },
  {
   "cell_type": "code",
   "execution_count": 32,
   "metadata": {},
   "outputs": [
    {
     "data": {
      "text/html": [
       "<div>\n",
       "<style scoped>\n",
       "    .dataframe tbody tr th:only-of-type {\n",
       "        vertical-align: middle;\n",
       "    }\n",
       "\n",
       "    .dataframe tbody tr th {\n",
       "        vertical-align: top;\n",
       "    }\n",
       "\n",
       "    .dataframe thead th {\n",
       "        text-align: right;\n",
       "    }\n",
       "</style>\n",
       "<table border=\"1\" class=\"dataframe\">\n",
       "  <thead>\n",
       "    <tr style=\"text-align: right;\">\n",
       "      <th></th>\n",
       "      <th>title</th>\n",
       "      <th>url</th>\n",
       "    </tr>\n",
       "  </thead>\n",
       "  <tbody>\n",
       "    <tr>\n",
       "      <th>0</th>\n",
       "      <td>习近平在黑龙江考察</td>\n",
       "      <td>http://www.ce.cn/xwzx/gnsz/szyw/201809/25/t201...</td>\n",
       "    </tr>\n",
       "    <tr>\n",
       "      <th>1</th>\n",
       "      <td>感慨北大荒沧桑巨变</td>\n",
       "      <td>http://www.ce.cn/xwzx/gnsz/szyw/201809/26/t201...</td>\n",
       "    </tr>\n",
       "    <tr>\n",
       "      <th>2</th>\n",
       "      <td>央行本月释放流动性超8000亿 未来降准仍可期</td>\n",
       "      <td>http://www.ce.cn/macro/more/201809/26/t2018092...</td>\n",
       "    </tr>\n",
       "    <tr>\n",
       "      <th>3</th>\n",
       "      <td>民企引入国资新股东是\"国进民退\"? 别乱扣帽子!</td>\n",
       "      <td>http://www.ce.cn/xwzx/gnsz/gdxw/201809/26/t201...</td>\n",
       "    </tr>\n",
       "    <tr>\n",
       "      <th>4</th>\n",
       "      <td>预算绩效管理全覆盖 花钱必问效、无效必问责</td>\n",
       "      <td>http://www.ce.cn/xwzx/gnsz/gdxw/201809/26/t201...</td>\n",
       "    </tr>\n",
       "    <tr>\n",
       "      <th>5</th>\n",
       "      <td>北京新版禁限目录发布 中央厨房、洗车等不禁限</td>\n",
       "      <td>http://www.ce.cn/xwzx/gnsz/gdxw/201809/26/t201...</td>\n",
       "    </tr>\n",
       "    <tr>\n",
       "      <th>6</th>\n",
       "      <td>以量换价!14省份药价谈判或10月底前完成</td>\n",
       "      <td>http://www.ce.cn/cysc/yy/hydt/201809/26/t20180...</td>\n",
       "    </tr>\n",
       "    <tr>\n",
       "      <th>7</th>\n",
       "      <td>高通指控苹果窃取机密技术 帮竞争对手英特尔</td>\n",
       "      <td>http://www.ce.cn/cysc/tech/gd2012/201809/26/t2...</td>\n",
       "    </tr>\n",
       "    <tr>\n",
       "      <th>8</th>\n",
       "      <td>贾跃亭开始还钱解押</td>\n",
       "      <td>http://finance.ce.cn/stock/gsgdbd/201809/26/t2...</td>\n",
       "    </tr>\n",
       "    <tr>\n",
       "      <th>9</th>\n",
       "      <td>乐视网公告否认实控人变更</td>\n",
       "      <td>http://finance.ce.cn/stock/gsgdbd/201809/26/t2...</td>\n",
       "    </tr>\n",
       "  </tbody>\n",
       "</table>\n",
       "</div>"
      ],
      "text/plain": [
       "                      title                                                url\n",
       "0                 习近平在黑龙江考察  http://www.ce.cn/xwzx/gnsz/szyw/201809/25/t201...\n",
       "1                 感慨北大荒沧桑巨变  http://www.ce.cn/xwzx/gnsz/szyw/201809/26/t201...\n",
       "2   央行本月释放流动性超8000亿 未来降准仍可期  http://www.ce.cn/macro/more/201809/26/t2018092...\n",
       "3  民企引入国资新股东是\"国进民退\"? 别乱扣帽子!  http://www.ce.cn/xwzx/gnsz/gdxw/201809/26/t201...\n",
       "4     预算绩效管理全覆盖 花钱必问效、无效必问责  http://www.ce.cn/xwzx/gnsz/gdxw/201809/26/t201...\n",
       "5    北京新版禁限目录发布 中央厨房、洗车等不禁限  http://www.ce.cn/xwzx/gnsz/gdxw/201809/26/t201...\n",
       "6     以量换价!14省份药价谈判或10月底前完成  http://www.ce.cn/cysc/yy/hydt/201809/26/t20180...\n",
       "7     高通指控苹果窃取机密技术 帮竞争对手英特尔  http://www.ce.cn/cysc/tech/gd2012/201809/26/t2...\n",
       "8                 贾跃亭开始还钱解押  http://finance.ce.cn/stock/gsgdbd/201809/26/t2...\n",
       "9              乐视网公告否认实控人变更  http://finance.ce.cn/stock/gsgdbd/201809/26/t2..."
      ]
     },
     "execution_count": 32,
     "metadata": {},
     "output_type": "execute_result"
    }
   ],
   "source": [
    "#pandas.DataFrame(列表)的方法，来查看df.head(),来df.to_生成需要的文件。 \n",
    "import pandas\n",
    "df = pandas.DataFrame(news)\n",
    "df.head(10)\n"
   ]
  },
  {
   "cell_type": "code",
   "execution_count": 33,
   "metadata": {},
   "outputs": [],
   "source": [
    "df.to_excel('news.xlsx')"
   ]
  },
  {
   "cell_type": "code",
   "execution_count": 35,
   "metadata": {},
   "outputs": [],
   "source": [
    "df.to_csv('经济新闻')"
   ]
  },
  {
   "cell_type": "code",
   "execution_count": null,
   "metadata": {},
   "outputs": [],
   "source": []
  }
 ],
 "metadata": {
  "kernelspec": {
   "display_name": "Python 3",
   "language": "python",
   "name": "python3"
  },
  "language_info": {
   "codemirror_mode": {
    "name": "ipython",
    "version": 3
   },
   "file_extension": ".py",
   "mimetype": "text/x-python",
   "name": "python",
   "nbconvert_exporter": "python",
   "pygments_lexer": "ipython3",
   "version": "3.6.4"
  }
 },
 "nbformat": 4,
 "nbformat_minor": 2
}
