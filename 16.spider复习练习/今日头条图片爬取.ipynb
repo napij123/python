{
 "cells": [
  {
   "cell_type": "code",
   "execution_count": 35,
   "metadata": {},
   "outputs": [],
   "source": [
    "'''\n",
    "今日头条，终于爬取下来了\n",
    "1.webdriver获取分析来的url，此url当然是ajax,network-xhr\n",
    "2,获取的是json格式的数据，分析清理掉多余的部分，再通过json.loads-python对象的数据\n",
    "3.jsonpath.jsonpath过得所有图片url，并分析，提取，清理所需要的\n",
    "4.存在本地，以数字.jpg的格式。\n",
    "\n",
    "'''\n",
    "from selenium import webdriver\n",
    "import json\n",
    "import jsonpath\n",
    "import requests\n",
    "driver = webdriver.Chrome()\n",
    "driver.get('https://www.toutiao.com/search_content/?offset=0&format=json&keyword=%E9%A3%8E%E6%99%AF&autoload=true&count=20&cur_tab=1&from=search_tab')\n",
    "html = driver.page_source\n",
    "jd = html.lstrip('<htmlxmlns=\"http://www.w3.org/1999/xhtml\"><head></head><body><prestyle=\"word-wrap: break-word; white-space: pre-wrap;\">').rstrip('</pre></body></html>')\n",
    "a = json.loads(jd)\n",
    "image = []\n",
    "images = jsonpath.jsonpath(a,'$.data..image_list[*]')\n",
    "for i in images:\n",
    "    image.append(i)\n",
    "#print(image)\n",
    "url = []\n",
    "for i in image:\n",
    "    if isinstance(i,dict):\n",
    "        url.append(i['url'])\n",
    "    else:\n",
    "        url.append(i.lstrip('http:'))\n",
    "        \n",
    "#print(url)\n",
    "file_path = \"F://toutiaofengjing//\"\n",
    "x = 1\n",
    "for u in url:\n",
    "    data = requests.get(\"http:\"+u)\n",
    "    photo_name = '{}.jpg'.format(x)\n",
    "    x+=1\n",
    "    path = file_path+photo_name\n",
    "    f=open(path,'wb')\n",
    "    f.write(data.content)\n",
    "    f.close()\n",
    "    "
   ]
  },
  {
   "cell_type": "code",
   "execution_count": null,
   "metadata": {},
   "outputs": [],
   "source": []
  },
  {
   "cell_type": "code",
   "execution_count": null,
   "metadata": {},
   "outputs": [],
   "source": []
  },
  {
   "cell_type": "code",
   "execution_count": null,
   "metadata": {},
   "outputs": [],
   "source": []
  },
  {
   "cell_type": "code",
   "execution_count": 2,
   "metadata": {},
   "outputs": [
    {
     "name": "stdout",
     "output_type": "stream",
     "text": [
      "请输入要爬取图片的关键词:街拍\n",
      "请输入要爬取的数量:20\n",
      "{'image': '//p3.pstatp.com/list/pgc-image/153702541412411e843442e', 'title': '街拍成都：初秋来了，成熟的时尚穿搭，让你魅力无限！'}\n",
      "{'image': '//p9.pstatp.com/list/pgc-image/1537025414063ef0382dcb7', 'title': '街拍成都：初秋来了，成熟的时尚穿搭，让你魅力无限！'}\n",
      "{'image': '//p3.pstatp.com/list/pgc-image/1537025414124c3a8f4957e', 'title': '街拍成都：初秋来了，成熟的时尚穿搭，让你魅力无限！'}\n",
      "{'image': '//p3.pstatp.com/list/pgc-image/15370254142658d81f137c9', 'title': '街拍成都：初秋来了，成熟的时尚穿搭，让你魅力无限！'}\n",
      "{'image': '//p1.pstatp.com/list/pgc-image/15370233514373b062df16f', 'title': '路人街拍，美的令人神往的秋季搭配，让你成为全世界的女神！'}\n",
      "{'image': '//p1.pstatp.com/list/pgc-image/15370233517455d5b434bd2', 'title': '路人街拍，美的令人神往的秋季搭配，让你成为全世界的女神！'}\n",
      "{'image': '//p3.pstatp.com/list/pgc-image/15370233519320978892423', 'title': '路人街拍，美的令人神往的秋季搭配，让你成为全世界的女神！'}\n",
      "{'image': '//p1.pstatp.com/list/pgc-image/1537023352053dc88552085', 'title': '路人街拍，美的令人神往的秋季搭配，让你成为全世界的女神！'}\n",
      "{'image': '//p9.pstatp.com/list/pgc-image/153702336438777e7c83c32', 'title': '路人街拍，就算有女神范也离不开时尚气质的穿搭'}\n",
      "{'image': '//p9.pstatp.com/list/pgc-image/153702336467629f81f33b3', 'title': '路人街拍，就算有女神范也离不开时尚气质的穿搭'}\n",
      "{'image': '//p3.pstatp.com/list/pgc-image/15370233652094403722da7', 'title': '路人街拍，就算有女神范也离不开时尚气质的穿搭'}\n",
      "{'image': '//p3.pstatp.com/list/pgc-image/15370233655307ead316b3e', 'title': '路人街拍，就算有女神范也离不开时尚气质的穿搭'}\n",
      "{'image': '//p9.pstatp.com/list/pgc-image/1537074467571a9ecf79b18', 'title': '街拍杭州：秋季优雅的时尚穿搭，让你美丽又有气质'}\n",
      "{'image': '//p1.pstatp.com/list/pgc-image/1537074468398a8765a0d28', 'title': '街拍杭州：秋季优雅的时尚穿搭，让你美丽又有气质'}\n",
      "{'image': '//p3.pstatp.com/list/pgc-image/15370744681471ef03e733b', 'title': '街拍杭州：秋季优雅的时尚穿搭，让你美丽又有气质'}\n",
      "{'image': '//p3.pstatp.com/list/pgc-image/1537074468064181d0bc6c1', 'title': '街拍杭州：秋季优雅的时尚穿搭，让你美丽又有气质'}\n"
     ]
    },
    {
     "ename": "AttributeError",
     "evalue": "'str' object has no attribute 'get'",
     "output_type": "error",
     "traceback": [
      "\u001b[1;31m---------------------------------------------------------------------------\u001b[0m",
      "\u001b[1;31mAttributeError\u001b[0m                            Traceback (most recent call last)",
      "\u001b[1;32m<ipython-input-2-79792a0f57e4>\u001b[0m in \u001b[0;36m<module>\u001b[1;34m()\u001b[0m\n\u001b[0;32m     67\u001b[0m     \u001b[0mkeyword\u001b[0m\u001b[1;33m=\u001b[0m\u001b[0minput\u001b[0m\u001b[1;33m(\u001b[0m\u001b[1;34m\"请输入要爬取图片的关键词:\"\u001b[0m\u001b[1;33m)\u001b[0m\u001b[1;33m\u001b[0m\u001b[0m\n\u001b[0;32m     68\u001b[0m     \u001b[0moffset\u001b[0m\u001b[1;33m=\u001b[0m\u001b[0minput\u001b[0m\u001b[1;33m(\u001b[0m\u001b[1;34m\"请输入要爬取的数量:\"\u001b[0m\u001b[1;33m)\u001b[0m\u001b[1;33m\u001b[0m\u001b[0m\n\u001b[1;32m---> 69\u001b[1;33m     \u001b[0mmain\u001b[0m\u001b[1;33m(\u001b[0m\u001b[0moffset\u001b[0m\u001b[1;33m,\u001b[0m\u001b[0mkeyword\u001b[0m\u001b[1;33m)\u001b[0m\u001b[1;33m\u001b[0m\u001b[0m\n\u001b[0m",
      "\u001b[1;32m<ipython-input-2-79792a0f57e4>\u001b[0m in \u001b[0;36mmain\u001b[1;34m(offset, keyword)\u001b[0m\n\u001b[0;32m     61\u001b[0m \u001b[1;32mdef\u001b[0m \u001b[0mmain\u001b[0m\u001b[1;33m(\u001b[0m\u001b[0moffset\u001b[0m\u001b[1;33m,\u001b[0m\u001b[0mkeyword\u001b[0m\u001b[1;33m)\u001b[0m\u001b[1;33m:\u001b[0m\u001b[1;33m\u001b[0m\u001b[0m\n\u001b[0;32m     62\u001b[0m     \u001b[0mjson\u001b[0m\u001b[1;33m=\u001b[0m\u001b[0mget_page\u001b[0m\u001b[1;33m(\u001b[0m\u001b[0moffset\u001b[0m\u001b[1;33m,\u001b[0m\u001b[0mkeyword\u001b[0m\u001b[1;33m)\u001b[0m\u001b[1;33m\u001b[0m\u001b[0m\n\u001b[1;32m---> 63\u001b[1;33m     \u001b[1;32mfor\u001b[0m \u001b[0mitem\u001b[0m \u001b[1;32min\u001b[0m \u001b[0mget_images\u001b[0m\u001b[1;33m(\u001b[0m\u001b[0mjson\u001b[0m\u001b[1;33m)\u001b[0m\u001b[1;33m:\u001b[0m\u001b[1;33m\u001b[0m\u001b[0m\n\u001b[0m\u001b[0;32m     64\u001b[0m         \u001b[0mprint\u001b[0m\u001b[1;33m(\u001b[0m\u001b[0mitem\u001b[0m\u001b[1;33m)\u001b[0m\u001b[1;33m\u001b[0m\u001b[0m\n\u001b[0;32m     65\u001b[0m         \u001b[0msave_image\u001b[0m\u001b[1;33m(\u001b[0m\u001b[0mitem\u001b[0m\u001b[1;33m)\u001b[0m\u001b[1;33m\u001b[0m\u001b[0m\n",
      "\u001b[1;32m<ipython-input-2-79792a0f57e4>\u001b[0m in \u001b[0;36mget_images\u001b[1;34m(json)\u001b[0m\n\u001b[0;32m     36\u001b[0m                     \u001b[1;31m#构造一个生成器，将图片和标题一起返回\u001b[0m\u001b[1;33m\u001b[0m\u001b[1;33m\u001b[0m\u001b[0m\n\u001b[0;32m     37\u001b[0m                     yield {\n\u001b[1;32m---> 38\u001b[1;33m                         \u001b[1;34m'image'\u001b[0m\u001b[1;33m:\u001b[0m\u001b[0mimage\u001b[0m\u001b[1;33m.\u001b[0m\u001b[0mget\u001b[0m\u001b[1;33m(\u001b[0m\u001b[1;34m'url'\u001b[0m\u001b[1;33m)\u001b[0m\u001b[1;33m,\u001b[0m\u001b[1;33m\u001b[0m\u001b[0m\n\u001b[0m\u001b[0;32m     39\u001b[0m                         \u001b[1;34m'title'\u001b[0m\u001b[1;33m:\u001b[0m\u001b[0mtitle\u001b[0m\u001b[1;33m\u001b[0m\u001b[0m\n\u001b[0;32m     40\u001b[0m                     }\n",
      "\u001b[1;31mAttributeError\u001b[0m: 'str' object has no attribute 'get'"
     ]
    }
   ],
   "source": [
    "'''\n",
    "网上copy的例子爬取的不全。？？\n",
    "'''\n",
    "import requests\n",
    "from urllib.parse import urlencode\n",
    "import os\n",
    "from hashlib import md5\n",
    "import json\n",
    "\n",
    "\n",
    "def get_page(offset,keyword):\n",
    "    params={\n",
    "        'offset':offset,\n",
    "        'format':'json',\n",
    "        'keyword':keyword,\n",
    "        'autoload':'true',\n",
    "        'count':'20',\n",
    "        'cur_tab':'1',\n",
    "        'from':'search_tab'\n",
    "    }\n",
    "    #https://www.toutiao.com/search_content/?offset=60&format=json&keyword=%E8%BD%A6%E6%A8%A1&autoload=true&count=20&cur_tab=1&from=search_tab\n",
    "    url='https://www.toutiao.com/search_content/?'+urlencode(params)\n",
    "\n",
    "    response=requests.get(url)\n",
    "    #500服务器内部错误，400错误请求（服务器找不到请求的语法） 404未找到\n",
    "    if response.status_code==200:\n",
    "        return response.json()\n",
    "\n",
    "def get_images(json):\n",
    "    data=json.get('data')\n",
    "    if data:\n",
    "        for item in data:\n",
    "            image_list=item.get('image_list')\n",
    "            title=item.get('title')\n",
    "\n",
    "            if image_list:\n",
    "                for image in image_list:\n",
    "                \n",
    "                    #构造一个生成器，将图片和标题一起返回\n",
    "                    yield {\n",
    "                        'image':image.get('url'),\n",
    "                        'title':title\n",
    "                    }\n",
    "#item就是get_image()返回的一个字典\n",
    "#item里面的title创建一个文件夹\n",
    "def save_image(item):\n",
    "    if not os.path.exists(item.get('title')):\n",
    "        os.mkdir(item.get('title'))\n",
    "\n",
    "    local_image_url=item.get('image')\n",
    "    response=requests.get(\"http:\"+local_image_url)\n",
    "\n",
    "    if response.status_code==200:\n",
    "        file_path='{0}/{1}.{2}'.format(item.get('title'),md5(response.content).hexdigest(),'jpg')\n",
    "\n",
    "        #判断路径是否存在，如果不存在，写入\n",
    "        if not os.path.exists(file_path):\n",
    "            with open(file_path,'wb')as f:\n",
    "                f.write(response.content)\n",
    "\n",
    "\n",
    "\n",
    "#定义一个offset数组，遍历，提取图片，下载\n",
    "def main(offset,keyword):\n",
    "    json=get_page(offset,keyword)\n",
    "    for item in get_images(json):\n",
    "        print(item)\n",
    "        save_image(item)\n",
    "if __name__ == '__main__':\n",
    "    keyword=input(\"请输入要爬取图片的关键词:\")\n",
    "    offset=input(\"请输入要爬取的数量:\")\n",
    "    main(offset,keyword)\n"
   ]
  },
  {
   "cell_type": "code",
   "execution_count": null,
   "metadata": {},
   "outputs": [],
   "source": []
  },
  {
   "cell_type": "code",
   "execution_count": null,
   "metadata": {},
   "outputs": [],
   "source": []
  },
  {
   "cell_type": "code",
   "execution_count": null,
   "metadata": {},
   "outputs": [],
   "source": []
  },
  {
   "cell_type": "code",
   "execution_count": null,
   "metadata": {},
   "outputs": [],
   "source": []
  },
  {
   "cell_type": "code",
   "execution_count": null,
   "metadata": {},
   "outputs": [],
   "source": []
  },
  {
   "cell_type": "code",
   "execution_count": null,
   "metadata": {},
   "outputs": [],
   "source": []
  },
  {
   "cell_type": "code",
   "execution_count": null,
   "metadata": {},
   "outputs": [],
   "source": []
  },
  {
   "cell_type": "code",
   "execution_count": null,
   "metadata": {},
   "outputs": [],
   "source": []
  },
  {
   "cell_type": "code",
   "execution_count": null,
   "metadata": {},
   "outputs": [],
   "source": []
  },
  {
   "cell_type": "code",
   "execution_count": null,
   "metadata": {},
   "outputs": [],
   "source": []
  },
  {
   "cell_type": "code",
   "execution_count": null,
   "metadata": {},
   "outputs": [],
   "source": []
  },
  {
   "cell_type": "code",
   "execution_count": null,
   "metadata": {},
   "outputs": [],
   "source": []
  },
  {
   "cell_type": "code",
   "execution_count": null,
   "metadata": {},
   "outputs": [],
   "source": []
  }
 ],
 "metadata": {
  "kernelspec": {
   "display_name": "Python 3",
   "language": "python",
   "name": "python3"
  },
  "language_info": {
   "codemirror_mode": {
    "name": "ipython",
    "version": 3
   },
   "file_extension": ".py",
   "mimetype": "text/x-python",
   "name": "python",
   "nbconvert_exporter": "python",
   "pygments_lexer": "ipython3",
   "version": "3.6.4"
  }
 },
 "nbformat": 4,
 "nbformat_minor": 2
}
