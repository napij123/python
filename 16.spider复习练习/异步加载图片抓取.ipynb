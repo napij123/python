{
 "cells": [
  {
   "cell_type": "code",
   "execution_count": null,
   "metadata": {},
   "outputs": [],
   "source": [
    "photo-item photo-item--overlay\n",
    "body > div.l-container.home-page > div.photos > article > a.js-photo-link > img"
   ]
  },
  {
   "cell_type": "code",
   "execution_count": 1,
   "metadata": {},
   "outputs": [
    {
     "name": "stdout",
     "output_type": "stream",
     "text": [
      "['https://images.pexels.com/photos/911758/pexels-photo-911758.jpeg?auto=compress&cs=tinysrgb&h=350', 'https://images.pexels.com/photos/1080847/pexels-photo-1080847.jpeg?auto=compress&cs=tinysrgb&h=350', 'https://images.pexels.com/photos/1243395/pexels-photo-1243395.jpeg?auto=compress&cs=tinysrgb&h=350', 'https://images.pexels.com/photos/1416822/pexels-photo-1416822.jpeg?auto=compress&cs=tinysrgb&h=350', 'https://images.pexels.com/photos/18895/pexels-photo.jpg?auto=compress&cs=tinysrgb&h=350', 'https://images.pexels.com/photos/1002635/pexels-photo-1002635.jpeg?auto=compress&cs=tinysrgb&h=350', 'https://images.pexels.com/photos/1398058/pexels-photo-1398058.jpeg?auto=compress&cs=tinysrgb&h=350', 'https://images.pexels.com/photos/722014/pexels-photo-722014.jpeg?auto=compress&cs=tinysrgb&h=350', 'https://images.pexels.com/photos/1404819/pexels-photo-1404819.jpeg?auto=compress&cs=tinysrgb&h=350', 'https://images.pexels.com/photos/1058770/pexels-photo-1058770.jpeg?auto=compress&cs=tinysrgb&h=350', 'https://images.pexels.com/photos/1230349/pexels-photo-1230349.jpeg?auto=compress&cs=tinysrgb&h=350', 'https://images.pexels.com/photos/1415811/pexels-photo-1415811.jpeg?auto=compress&cs=tinysrgb&h=350']\n"
     ]
    }
   ],
   "source": [
    "\n",
    "import requests\n",
    "import re\n",
    "\n",
    "from bs4 import BeautifulSoup\n",
    "\n",
    "headers = {\n",
    "    'accept':'text/javascript, application/javascript, application/ecmascript, application/x-ecmascript, */*; q=0.01',\n",
    "    'User-Agent':'Mozilla/5.0 (Windows NT 6.1; WOW64) AppleWebKit/537.36 (KHTML, like Gecko) Chrome/63.0.3239.132 Safari/537.36'\n",
    "    \n",
    "}\n",
    "urls = ['https://www.pexels.com/?page={}'.format(str(i)) for i in range(1,2)]\n",
    "photos = []\n",
    "for url in urls:\n",
    "    r = requests.get(url,headers=headers)\n",
    "    soup = BeautifulSoup(r.text,'lxml')\n",
    "    imgs = soup.select('body > div.l-container.home-page > div.photos > article > a.js-photo-link > img')\n",
    "    for img in imgs:\n",
    "        photo = img.get('src')\n",
    "        photos.append(photo)\n",
    "print(photos)\n",
    "\n",
    "path = \"F://yibupaqu//\"  # 这保存的文件夹命名注意！别的保存的位置有问题。\n",
    "for i in photos:\n",
    "    data = requests.get(i,headers=headers)  # 根据img的src 获取图片的数据\n",
    "    photo_name = re.findall('\\/\\d+\\/(.*?)\\?',i)\n",
    "    \n",
    "    if photo_name:\n",
    "        fp = open(path+photo_name[0],'wb')  # open里面的是： 存放的文件夹名字+图片的名称，相当于打开了一个命名的空间，等待内容的加入\n",
    "        fp.write(data.content)   # 写入图片数据的内容\n",
    "        fp.close()  # 关闭文件"
   ]
  },
  {
   "cell_type": "code",
   "execution_count": null,
   "metadata": {},
   "outputs": [],
   "source": []
  },
  {
   "cell_type": "code",
   "execution_count": null,
   "metadata": {},
   "outputs": [],
   "source": []
  },
  {
   "cell_type": "code",
   "execution_count": null,
   "metadata": {},
   "outputs": [],
   "source": []
  },
  {
   "cell_type": "code",
   "execution_count": null,
   "metadata": {},
   "outputs": [],
   "source": []
  },
  {
   "cell_type": "code",
   "execution_count": null,
   "metadata": {},
   "outputs": [],
   "source": []
  },
  {
   "cell_type": "code",
   "execution_count": null,
   "metadata": {},
   "outputs": [],
   "source": []
  },
  {
   "cell_type": "code",
   "execution_count": null,
   "metadata": {},
   "outputs": [],
   "source": []
  }
 ],
 "metadata": {
  "kernelspec": {
   "display_name": "Python 3",
   "language": "python",
   "name": "python3"
  },
  "language_info": {
   "codemirror_mode": {
    "name": "ipython",
    "version": 3
   },
   "file_extension": ".py",
   "mimetype": "text/x-python",
   "name": "python",
   "nbconvert_exporter": "python",
   "pygments_lexer": "ipython3",
   "version": "3.6.4"
  }
 },
 "nbformat": 4,
 "nbformat_minor": 2
}
