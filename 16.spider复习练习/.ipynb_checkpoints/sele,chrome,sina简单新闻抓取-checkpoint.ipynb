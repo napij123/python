{
 "cells": [
  {
   "cell_type": "code",
   "execution_count": 1,
   "metadata": {},
   "outputs": [],
   "source": [
    "# selenium chromedriver安装成功测试\n",
    "# 无头模式没有设置成功。？\n",
    "from selenium import webdriver\n",
    "\n",
    "browser = webdriver.Chrome()\n",
    "browser.get('http://www.baidu.com/')\n",
    "#print(browser.page_source)"
   ]
  },
  {
   "cell_type": "code",
   "execution_count": 4,
   "metadata": {},
   "outputs": [
    {
     "name": "stdout",
     "output_type": "stream",
     "text": [
      "新闻\n",
      "hao123\n",
      "地图\n",
      "视频\n",
      "贴吧\n",
      "更多产品\n",
      "关于百度About Baidu\n",
      "©2018 Baidu 使用百度前必读 意见反馈 京ICP证030173号 \n"
     ]
    }
   ],
   "source": [
    "# 无头模式设置\n",
    "from selenium import webdriver\n",
    "from selenium.webdriver.chrome.options import Options\n",
    "chrome_options = Options()\n",
    "chrome_options.add_argument('--headless')\n",
    "driver = webdriver.Chrome(chrome_options=chrome_options)\n",
    "\n",
    "driver.get(\"http://www.baidu.com/\")\n",
    "data = driver.find_element_by_id(\"wrapper\").text\n",
    "print(data)\n",
    "driver.quit()"
   ]
  },
  {
   "cell_type": "code",
   "execution_count": 14,
   "metadata": {},
   "outputs": [],
   "source": [
    "from selenium import webdriver\n",
    "driver = webdriver.Chrome()\n",
    "driver.get('https://www.douban.com/')\n",
    "driver.implicitly_wait(5)\n",
    "driver.find_element_by_id('form_email').clear()\n",
    "driver.find_element_by_id('form_email').send_keys('13972223069')\n",
    "driver.find_element_by_id('form_password').clear()\n",
    "driver.find_element_by_id('form_password').send_keys('13972223069')\n",
    "driver.find_element_by_class_name('bn-submit').click()\n",
    "#print(driver.page_source)\n",
    "with open('driver.html','w',encoding='utf-8') as f:\n",
    "    f.write(driver.page_source)"
   ]
  },
  {
   "cell_type": "code",
   "execution_count": 19,
   "metadata": {},
   "outputs": [],
   "source": [
    "from selenium import webdriver\n",
    "driver = webdriver.Chrome()\n",
    "driver.get('http://home.51cto.com/index?reback=http://www.51cto.com/')\n",
    "driver.implicitly_wait(5)\n",
    "driver.find_element_by_id('loginform-username').clear()\n",
    "driver.find_element_by_id('loginform-username').send_keys('napij')\n",
    "driver.find_element_by_id('loginform-password').clear()\n",
    "driver.find_element_by_id('loginform-password').send_keys('13972223069')\n",
    "driver.find_element_by_class_name('loginbtn').click()   #  class_name的值取完整的会报错，只取其中一部分"
   ]
  },
  {
   "cell_type": "code",
   "execution_count": 2,
   "metadata": {},
   "outputs": [
    {
     "name": "stdout",
     "output_type": "stream",
     "text": [
      "张梓彧 2017.12.27 22:07* 字数 4636 阅读 31088 评论 161 喜欢 335 ['首页投稿（暂停...', '短篇小说', '二次元', '火影小说家征文', '同人志', '原创小说汇', '南阳师范学院']\n"
     ]
    }
   ],
   "source": [
    "from selenium import webdriver\n",
    "driver = webdriver.Chrome()\n",
    "driver.get('https://www.jianshu.com/p/aa4a1829840f')\n",
    "include_title = []\n",
    "driver.implicitly_wait(5)\n",
    "author = driver.find_element_by_xpath('//span[@class=\"name\"]/a').text\n",
    "date = driver.find_element_by_xpath('//span[@class=\"publish-time\"]').text\n",
    "word = driver.find_element_by_xpath('//span[@class=\"wordage\"]').text\n",
    "view = driver.find_element_by_xpath('//span[@class=\"views-count\"]').text\n",
    "comment = driver.find_element_by_xpath('//span[@class=\"comments-count\"]').text\n",
    "like = driver.find_element_by_xpath('//span[@class=\"likes-count\"]').text\n",
    "include_names = driver.find_elements_by_xpath('//div[@class=\"include-collection\"]/a/div')  # 如果是find_element 会报错，因为寻找的是一组元素\n",
    "for i in include_names:\n",
    "    include_title.append(i.text)\n",
    "print(author,date,word,view,comment,like,include_title)"
   ]
  },
  {
   "cell_type": "code",
   "execution_count": null,
   "metadata": {},
   "outputs": [],
   "source": []
  },
  {
   "cell_type": "code",
   "execution_count": 1,
   "metadata": {},
   "outputs": [
    {
     "name": "stdout",
     "output_type": "stream",
     "text": [
      "中美贸易战进入全新阶段 中美都有三个没想到\n",
      "http://news.sina.com.cn/c/zj/2018-09-24/doc-ihkmwytn8691520.shtml\n",
      "这个商品进了贸易战清单 俄罗斯愿助中国一臂之力\n",
      "http://news.sina.com.cn/c/2018-09-25/doc-ifxeuwwr7812542.shtml\n",
      "郑州原公安局长履新 任上曾查皇家一号等涉黄场所\n",
      "http://news.sina.com.cn/o/2018-09-24/doc-ihkmwytn8911046.shtml\n",
      "他8年8次访华和特朗普对着干 认为中国作用不能缺\n",
      "http://news.sina.com.cn/o/2018-09-24/doc-ifxeuwwr7792422.shtml\n",
      "又踩“一中”红线 美国务院批准对台22亿元军售\n",
      "http://news.sina.com.cn/c/2018-09-25/doc-ihkmwytn9402649.shtml\n",
      "700页调查文件3次延期申诉 这个“港独”组织被禁\n",
      "http://news.sina.com.cn/c/2018-09-25/doc-ihkmwytn9334909.shtml\n",
      "他是曾主政京津沪的市委书记 被称为“灭火队员”\n",
      "http://news.sina.com.cn/c/2018-09-25/doc-ifxeuwwr7850062.shtml\n",
      "蔡奇十个月内两次来到这 每次都强调要超前谋划\n",
      "http://news.sina.com.cn/c/2018-09-25/doc-ihkmwytn9322950.shtml\n",
      "安徽开展警示教育 与鲁炜有交往的干部作反省表态\n",
      "http://news.sina.com.cn/c/2018-09-25/doc-ifxeuwwr7846803.shtml\n",
      "四川文学奖被指评比过程有漏洞 主任给副主任评奖\n",
      "http://news.sina.com.cn/o/2018-09-25/doc-ihkmwytn9258643.shtml\n",
      "侠客岛：中美辛苦30年一夜回到解放前 责任在美国\n",
      "http://news.sina.com.cn/c/2018-09-25/doc-ifxeuwwr7834540.shtml\n",
      "环保督察：汕头“四大班子”成员真的住到臭水边\n",
      "http://news.sina.com.cn/c/2018-09-25/doc-ifxeuwwr7837659.shtml\n",
      "中国驻瑞大使馆再次敦促瑞典电视台反省真诚道歉\n",
      "http://news.sina.com.cn/c/2018-09-25/doc-ifxeuwwr7833321.shtml\n",
      "台军投入16亿防范大陆 将在台东台中新建基地\n",
      "http://news.sina.com.cn/c/2018-09-25/doc-ihkmwytn9269671.shtml\n",
      "中国科技期刊现状：科技期刊不是由科学家说了算\n",
      "http://news.sina.com.cn/c/2018-09-25/doc-ihkmwytn9267894.shtml\n"
     ]
    }
   ],
   "source": [
    "'''\n",
    "爬取新浪国内中间部分新闻\n",
    "1.分析网页，上面黑体在class为news-1的下面，用soup.select('.news-1')\n",
    "下面的在class为news-2的下面，用soup.select('.news-2')\n",
    "2.for循环找到里面a标签的内容\n",
    "3.打印a标签内的text和href\n",
    "'''\n",
    "import requests\n",
    "from bs4 import BeautifulSoup\n",
    "res = requests.get('https://news.sina.com.cn/china/')\n",
    "res.encoding = 'utf-8'\n",
    "soup = BeautifulSoup(res.text,'html.parser')\n",
    "\n",
    "for news in soup.select('.news-1'):\n",
    "    for i in news.select('a'):\n",
    "        print(i.text)\n",
    "        print(i['href'])\n",
    "for news in soup.select('.news-2'):\n",
    "    for i in news.select('a'):\n",
    "        print(i.text)\n",
    "        print(i['href'])"
   ]
  },
  {
   "cell_type": "code",
   "execution_count": 3,
   "metadata": {},
   "outputs": [
    {
     "data": {
      "text/plain": [
       "'中国抗战军装现身靖国神社 “军人”身份揭晓(图)'"
      ]
     },
     "execution_count": 3,
     "metadata": {},
     "output_type": "execute_result"
    }
   ],
   "source": [
    "# 抓取内文中的标题\n",
    "import requests\n",
    "from bs4 import BeautifulSoup\n",
    "res = requests.get('http://news.sina.com.cn/c/2018-09-05/doc-ihiqtcap4420917.shtml')\n",
    "res.encoding = 'utf-8'\n",
    "soup = BeautifulSoup(res.text,'html.parser')\n",
    "#print(res.text)\n",
    "soup.select('.main-title')[0].text\n",
    "\n"
   ]
  },
  {
   "cell_type": "code",
   "execution_count": 146,
   "metadata": {},
   "outputs": [
    {
     "name": "stdout",
     "output_type": "stream",
     "text": [
      "2018年09月05日 08:13\n",
      "<class 'str'>\n",
      "2018-09-05 08:13:00\n"
     ]
    }
   ],
   "source": [
    "#抓取内文中的时间，并时间转换\n",
    "from datetime import datetime\n",
    "timesource = soup.select('.date-source')[0].contents[1].text\n",
    "print(timesource)\n",
    "\n",
    "print(type(timesource))\n",
    "time=datetime.strptime(timesource,'%Y年%m月%d日 %H:%M')\n",
    "print(time)\n",
    "\n"
   ]
  },
  {
   "cell_type": "code",
   "execution_count": 31,
   "metadata": {},
   "outputs": [
    {
     "data": {
      "text/plain": [
       "'环球时报'"
      ]
     },
     "execution_count": 31,
     "metadata": {},
     "output_type": "execute_result"
    }
   ],
   "source": [
    "soup.select('.date-source a')[0].text\n"
   ]
  },
  {
   "cell_type": "code",
   "execution_count": 54,
   "metadata": {},
   "outputs": [
    {
     "name": "stdout",
     "output_type": "stream",
     "text": [
      "['原标题：穿着军服去靖国神社纪念抗战胜利的“中国军人”身份揭晓！', '是 “中国爱国青年”，还是“日本精中分子“？', '近日，一组“中国抗战军装现身靖国神社”的照片在微博上流传。', '照片上，3名东亚面孔的青年身着抗战时期的中国军装，站在写有“靖国神社”的石碑前合影。而照片发布的时间，正好是1945年日本向盟军投降的日子，也是9·3中国抗日战争胜利纪念日的前一天。', '究竟是谁在这样的日子，进行了这样的“cosplay”？网友们也纷纷问道，这是日本的“精中”，还是中国的爱国青年？', '4日，《环球时报》联系到了这次活动的组织者、也是照片中站在中央的王同学。他告诉记者，照片是9月2日在靖国神社正门外拍摄的，3名身穿军装的青年都是中国在日留学生，“我们此次纪念活动是希望纪念我们民族赢得自由的日子。”', '王同学向《环球时报》记者介绍称，左边穿的灰蓝色军服是国民革命军第二十九军的军服，也就是著名的“大刀队”；中间的草绿色军服是中央军第八十八师的军官野战服；右边的黄色军服是川军军服。', '其实这次纪念活动最初计划在8月15日——日本宣布无条件投降的日子进行，王同学的一位朋友计划穿着中国军装前往靖国神社。但当日靖国神社聚集了大量前来参拜战犯日本右翼份子进行游行，场面十分混乱。', '与此同时，也有日本右翼份子上前骚扰、威胁王同学的朋友。考虑到人身安全，这次拍照计划被取消了。', '2日，王同学和他的2位朋友再次身穿中国军装，来到靖国神社前。这次没有右翼份子的干扰，他们成功拍下了这组照片。', '王同学来自山东，目前在日本学习，他的曾祖父曾经也是参加过抗战的中国军人。王同学对《环球时报》记者称，“我们组织这次纪念活动的初衷就是为了纪念中国民族抗战胜利赢得自由，以及向所有为中华民族的自由而献身的先烈致敬。”', '对于3名中国留学生的行为，不仅被大陆网友惊呼“勇士”“爱国”，也被台湾媒体注意到，不过被断章取义写成向“中华民国”抗战先烈致敬。', '“虽然我们身在日本，但我们非常想尽自己的一份力来纪念中华民族赢得自由与胜利的日子。”']\n"
     ]
    },
    {
     "data": {
      "text/plain": [
       "'原标题：穿着军服去靖国神社纪念抗战胜利的“中国军人”身份揭晓！\\n是 “中国爱国青年”，还是“日本精中分子“？\\n近日，一组“中国抗战军装现身靖国神社”的照片在微博上流传。\\n照片上，3名东亚面孔的青年身着抗战时期的中国军装，站在写有“靖国神社”的石碑前合影。而照片发布的时间，正好是1945年日本向盟军投降的日子，也是9·3中国抗日战争胜利纪念日的前一天。\\n究竟是谁在这样的日子，进行了这样的“cosplay”？网友们也纷纷问道，这是日本的“精中”，还是中国的爱国青年？\\n4日，《环球时报》联系到了这次活动的组织者、也是照片中站在中央的王同学。他告诉记者，照片是9月2日在靖国神社正门外拍摄的，3名身穿军装的青年都是中国在日留学生，“我们此次纪念活动是希望纪念我们民族赢得自由的日子。”\\n王同学向《环球时报》记者介绍称，左边穿的灰蓝色军服是国民革命军第二十九军的军服，也就是著名的“大刀队”；中间的草绿色军服是中央军第八十八师的军官野战服；右边的黄色军服是川军军服。\\n其实这次纪念活动最初计划在8月15日——日本宣布无条件投降的日子进行，王同学的一位朋友计划穿着中国军装前往靖国神社。但当日靖国神社聚集了大量前来参拜战犯日本右翼份子进行游行，场面十分混乱。\\n与此同时，也有日本右翼份子上前骚扰、威胁王同学的朋友。考虑到人身安全，这次拍照计划被取消了。\\n2日，王同学和他的2位朋友再次身穿中国军装，来到靖国神社前。这次没有右翼份子的干扰，他们成功拍下了这组照片。\\n王同学来自山东，目前在日本学习，他的曾祖父曾经也是参加过抗战的中国军人。王同学对《环球时报》记者称，“我们组织这次纪念活动的初衷就是为了纪念中国民族抗战胜利赢得自由，以及向所有为中华民族的自由而献身的先烈致敬。”\\n对于3名中国留学生的行为，不仅被大陆网友惊呼“勇士”“爱国”，也被台湾媒体注意到，不过被断章取义写成向“中华民国”抗战先烈致敬。\\n“虽然我们身在日本，但我们非常想尽自己的一份力来纪念中华民族赢得自由与胜利的日子。”'"
      ]
     },
     "execution_count": 54,
     "metadata": {},
     "output_type": "execute_result"
    }
   ],
   "source": [
    "#正文的整理\n",
    "article = []\n",
    "for p in soup.select('#article p')[:-1]:\n",
    "    article.append(p.text.strip())\n",
    "print(article)   \n",
    "'\\n'.join(article)"
   ]
  },
  {
   "cell_type": "code",
   "execution_count": 67,
   "metadata": {},
   "outputs": [
    {
     "data": {
      "text/plain": [
       "'张迪 '"
      ]
     },
     "execution_count": 67,
     "metadata": {},
     "output_type": "execute_result"
    }
   ],
   "source": [
    "soup.select('.show_author')[0].text.strip('责任编辑：')"
   ]
  },
  {
   "cell_type": "code",
   "execution_count": 5,
   "metadata": {},
   "outputs": [],
   "source": [
    "import requests\n",
    "import json\n",
    "res = requests.get('http://comment5.news.sina.com.cn/page/info?version=1&format=json&channel=gn&\\\n",
    "newsid=comos-hiqtcap4420917&group=undefined&compress=0&ie=utf-8&oe=utf-8&\\\n",
    "page=1&page_size=3&t_size=3&h_size=3&thread=1')\n",
    "jd = json.loads(res.text)\n",
    "#print(jd)\n"
   ]
  },
  {
   "cell_type": "code",
   "execution_count": 4,
   "metadata": {},
   "outputs": [
    {
     "data": {
      "text/plain": [
       "13015"
      ]
     },
     "execution_count": 4,
     "metadata": {},
     "output_type": "execute_result"
    }
   ],
   "source": [
    "jd['result']['count']['total']"
   ]
  },
  {
   "cell_type": "code",
   "execution_count": 102,
   "metadata": {},
   "outputs": [
    {
     "data": {
      "text/plain": [
       "'hiqtcap4420917'"
      ]
     },
     "execution_count": 102,
     "metadata": {},
     "output_type": "execute_result"
    }
   ],
   "source": [
    "#第一种方法清理出新闻ID\n",
    "newsurl = 'http://news.sina.com.cn/c/2018-09-05/doc-ihiqtcap4420917.shtml'\n",
    "newsurl.split('/')[-1].strip('.shtml').strip('doc-i')"
   ]
  },
  {
   "cell_type": "code",
   "execution_count": 118,
   "metadata": {},
   "outputs": [
    {
     "name": "stdout",
     "output_type": "stream",
     "text": [
      "hiqtcap4420917\n"
     ]
    }
   ],
   "source": [
    "#第二种方法来清理出新闻ID\n",
    "import re\n",
    "newsurl = 'http://news.sina.com.cn/c/2018-09-05/doc-ihiqtcap4420917.shtml'\n",
    "m = re.search('doc-i(.+).shtml' ,newsurl)\n",
    "newsid = m.group(1)\n",
    "print(newsid)"
   ]
  },
  {
   "cell_type": "code",
   "execution_count": 123,
   "metadata": {},
   "outputs": [
    {
     "data": {
      "text/plain": [
       "9"
      ]
     },
     "execution_count": 123,
     "metadata": {},
     "output_type": "execute_result"
    }
   ],
   "source": [
    "# 写个取得评论数的方法\n",
    "conmentURL = 'http://comment5.news.sina.com.cn/page/info?version=1&format=json&channel=gn&\\\n",
    "newsid=comos-{}&group=undefined&compress=0&ie=utf-8&oe=utf-8&\\\n",
    "page=1&page_size=3&t_size=3&h_size=3&thread=1'\n",
    "import requests\n",
    "import json\n",
    "def getConmentCounts(newsurl):\n",
    "    m = re.search('doc-i(.+).shtml',newsurl)\n",
    "    newsid = m.group(1)\n",
    "    res = requests.get(conmentURL.format(newsid))\n",
    "    jd = json.loads(res.text)\n",
    "    return jd['result']['count']['total']\n",
    "\n",
    "news = 'http://news.sina.com.cn/c/2018-09-05/doc-ihiixzkm4736483.shtml'\n",
    "getConmentCounts(news)"
   ]
  },
  {
   "cell_type": "code",
   "execution_count": 147,
   "metadata": {},
   "outputs": [
    {
     "data": {
      "text/plain": [
       "{'article': '原标题：香港特区行政长官林郑月娥澄清港铁三大不实传闻\\n[环球时报驻香港特约记者 龙珊]《广深港高铁（一地两检）条例》4日开始实施，西九龙站“内地口岸区”正式设立。据香港星岛日报网4日报道，当天约700名内地工作人员开始进驻西九龙站工作，为落实“一地两检”和本月23日正式通车做最后准备。此外，对于香港部分媒体日前报道的内地口岸区人员“亿元膳食费”“神秘B5楼层”、内地人员留港过夜等三大传闻，香港特区行政长官林郑月娥4日逐一做出澄清。\\n据“香港01”网站4日报道，林郑表示，3日晚并非正式通车仪式，只是双方工作层面交接，不存在部分舆论所谓的“鬼祟”进行。内地口岸区工作人员膳食费用会由内地方面支付，港铁只是负责招标。她还提及，内地口岸区的清洁费、水电费、维修保养费等，全部都是由内地负责，希望消除公众疑虑。\\n“香港01”网站3日独家报道西九龙站有“神秘的B5层”，内部职员可经B5层的狭窄通道，通往所有月台，引发香港舆论关注。公民党立法会议员陈淑庄表示，一直以来都只知道有B1至B4层，要求港府和港铁出面解释。林郑对此解释称，很多隧道工程都有类似安排，作用类似酒店后勤部门（Back of house），可以供工作人员通过，B5楼层并不神秘。港铁也表示，B5层是B4月台层之下的后勤通道，只供支援车站维修及作为消防紧急通道使用，不属内地口岸区范围，由港铁公司负责管理，亦非乘客使用的区域。由于通道在B4层之下，因此标示为B5层。\\n据《星岛日报》报道，还有消息称会有少数内地人员通宵驻守口岸区，与港府早前说法有分別。林郑月娥表示，内地机关人员不会离开口岸，亦不会在口岸居住，但由于非营运时间仍需要有人驻守，因此不论内地或香港，都需要人员分时工作，以准备翌日列车运作。\\n林郑表示，9月22日她会联同广东省省长马兴瑞主持开通仪式。由于高铁通车在即，舆论难免有担心和疑虑，运输及房屋局会在未来数日就各种细节，“公开透明解释，让公众有所适从”。\\n《星岛日报》还报道称，内地用以限制“严重失信人”搭乘高铁的“失信人名单制度”，亦会随高铁开通而引进到香港。在高铁香港段列车内吸烟、“严重扰乱铁路运输秩序，造成严重社会不良影响”、不合资格使用优待票等行为，都有可能被列入“黑名单”，在3个月至半年内被禁止购买高铁车票。',\n",
       " 'conments': 5,\n",
       " 'date-source': '环球网',\n",
       " 'editor': '余鹏飞 ',\n",
       " 'time': datetime.datetime(2018, 9, 5, 4, 0),\n",
       " 'title': '香港特区行政长官林郑月娥澄清港铁三大不实传闻'}"
      ]
     },
     "execution_count": 147,
     "metadata": {},
     "output_type": "execute_result"
    }
   ],
   "source": [
    "import requests\n",
    "from bs4 import BeautifulSoup\n",
    "def getNewsDetail(newsurl):\n",
    "    result = {}\n",
    "    res = requests.get(newsurl)\n",
    "    res.encoding = 'utf-8'\n",
    "    soup = BeautifulSoup(res.text,'html.parser')\n",
    "    result['title'] = soup.select('.main-title')[0].text\n",
    "    result['date-source'] = soup.select('.date-source a')[0].text\n",
    "    timesource = soup.select('.date-source')[0].contents[1].text\n",
    "    result['time'] = datetime.strptime(timesource,'%Y年%m月%d日 %H:%M')\n",
    "    # 抓取正文\n",
    "    article = []\n",
    "    for p in soup.select('#article p')[:-1]:\n",
    "        article.append(p.text.strip())\n",
    "    result['article'] = '\\n'.join(article)\n",
    "    \n",
    "    result['editor'] = soup.select('.show_author')[0].text.strip('责任编辑：')\n",
    "    result['conments'] = getConmentCounts(newsurl)\n",
    "    return result\n",
    "\n",
    "getNewsDetail('http://news.sina.com.cn/c/gat/2018-09-05/doc-ihiqtcap4141722.shtml')\n",
    "\n",
    "    \n",
    "    "
   ]
  },
  {
   "cell_type": "code",
   "execution_count": 22,
   "metadata": {},
   "outputs": [
    {
     "name": "stdout",
     "output_type": "stream",
     "text": [
      "{'title': '媒体谈天门山冒雨举办越野赛：少了一点安全顾忌', 'href': 'http://news.sina.com.cn/c/zs/2018-09-25/doc-ihkmwytn9179679.shtml'}\n",
      "{'title': '北京青年报谈为子报仇:谁在为凶手编织正义的光环', 'href': 'http://news.sina.com.cn/c/zs/2018-09-25/doc-ihkmwytn9179004.shtml'}\n",
      "{'title': '北京青年报：“纸螃蟹”遇冷是一件好事', 'href': 'http://news.sina.com.cn/c/zs/2018-09-25/doc-ifxeuwwr7821501.shtml'}\n",
      "{'title': '新京报：取消商品房预售制 不宜操之过急', 'href': 'http://news.sina.com.cn/c/zs/2018-09-25/doc-ifxeuwwr7809429.shtml'}\n",
      "{'title': '新京报：降低社保费率需要 “全国一盘棋”', 'href': 'http://news.sina.com.cn/c/zs/2018-09-25/doc-ihkmwytn8645730.shtml'}\n",
      "{'title': '新京报评车顶放矿泉水豪车停女生宿舍楼下:想干啥', 'href': 'http://news.sina.com.cn/c/zs/2018-09-24/doc-ihkmwytn7622364.shtml'}\n",
      "{'title': '北京青年报谈家长给老师晒官谱:有绵里藏针的味道', 'href': 'http://news.sina.com.cn/c/zs/2018-09-23/doc-ihkmwytn6040663.shtml'}\n",
      "{'title': '北京青年报谈为子报仇：校园戾气加重须引起警惕', 'href': 'http://news.sina.com.cn/c/zs/2018-09-23/doc-ifxeuwwr7297752.shtml'}\n",
      "{'title': '媒体:报仇秀官职 家长替孩子做的不该是这些事', 'href': 'http://news.sina.com.cn/c/zs/2018-09-22/doc-ihkmwytn5908023.shtml'}\n",
      "{'title': '媒体谈强奸和解及为子报仇:该和不和何来冰释前嫌', 'href': 'http://news.sina.com.cn/o/2018-09-22/doc-ifxeuwwr7205427.shtml'}\n",
      "{'title': '新京报：打击诈骗分子何必株连子女', 'href': 'http://news.sina.com.cn/c/zs/2018-09-21/doc-ifxeuwwr6778457.shtml'}\n",
      "{'title': '蔡当局严打假新闻接连闹笑话 连这些人也不放过', 'href': 'http://news.sina.com.cn/c/gat/2018-09-21/doc-ihkhfqnt3561600.shtml'}\n",
      "{'title': '陆客减半 台业界推“雪崩式”超低价仍等不到游客', 'href': 'http://news.sina.com.cn/c/gat/2018-09-21/doc-ihkhfqnt3561613.shtml'}\n",
      "{'title': '李登辉被传家中死亡 蔡英文急登门送鸡汤证其没死', 'href': 'http://news.sina.com.cn/c/gat/2018-09-20/doc-ihkhfqnt3423879.shtml'}\n",
      "{'title': '陆委会要对申领大陆居住证者下重手 申办两次除籍', 'href': 'http://news.sina.com.cn/c/gat/2018-09-20/doc-ifxeuwwr6206039.shtml'}\n",
      "{'title': '蔡英文贴身保镖被爆偷情丑闻 同大12岁女军官开房', 'href': 'http://news.sina.com.cn/c/gat/2018-09-20/doc-ihkhfqnt1170679.shtml'}\n",
      "{'title': '蔡办再爆不伦丑闻 蔡英文保镖偷吃人妻女上校(图)', 'href': 'http://news.sina.com.cn/c/gat/2018-09-20/doc-ifxeuwwr6210092.shtml'}\n",
      "{'title': '台嘉义发生当街砍人案 现场血迹斑斑警方全力追凶', 'href': 'http://news.sina.com.cn/c/gat/2018-09-19/doc-ihkhfqnt0776193.shtml'}\n",
      "{'title': '媒体谈整容逐渐“低龄化”：孩子审美观被带偏', 'href': 'http://news.sina.com.cn/s/2018-09-19/doc-ihkhfqns8206969.shtml'}\n",
      "{'title': '新京报：昆山反杀案已了 别再让当事人喘不过气', 'href': 'http://news.sina.com.cn/c/2018-09-19/doc-ifxeuwwr5935765.shtml'}\n"
     ]
    }
   ],
   "source": [
    "from selenium import webdriver\n",
    "import json\n",
    "import jsonpath\n",
    "\n",
    "driver = webdriver.Chrome()\n",
    "driver.get('https://feed.sina.com.cn/api/roll/get?pageid=121&lid=1356&num=20&versionNumber=1.2.4&page=1&encode=utf-8')\n",
    "#print(driver.page_source)\n",
    "html = driver.page_source\n",
    "jd=html.lstrip('<html xmlns=\"http://www.w3.org/1999/xhtml\"><head></head><body><pre style=\"word-wrap: break-word; white-space: pre-wrap;\">').rstrip('</pre></body></html>')\n",
    "a = json.loads(jd)\n",
    "titles = jsonpath.jsonpath(a,'$.result.data[*].title')\n",
    "url = jsonpath.jsonpath(a,'$.result.data[*].url')\n",
    "for title,href in zip(titles,url):\n",
    "    data={\n",
    "        'title':title,\n",
    "        'href':href\n",
    "        \n",
    "    }\n",
    "    print(data)\n"
   ]
  },
  {
   "cell_type": "code",
   "execution_count": 25,
   "metadata": {},
   "outputs": [
    {
     "name": "stdout",
     "output_type": "stream",
     "text": [
      "{'title': '媒体谈天门山冒雨举办越野赛：少了一点安全顾忌', 'href': 'http://news.sina.com.cn/c/zs/2018-09-25/doc-ihkmwytn9179679.shtml'}\n",
      "{'title': '北京青年报谈为子报仇:谁在为凶手编织正义的光环', 'href': 'http://news.sina.com.cn/c/zs/2018-09-25/doc-ihkmwytn9179004.shtml'}\n",
      "{'title': '北京青年报：“纸螃蟹”遇冷是一件好事', 'href': 'http://news.sina.com.cn/c/zs/2018-09-25/doc-ifxeuwwr7821501.shtml'}\n",
      "{'title': '新京报：取消商品房预售制 不宜操之过急', 'href': 'http://news.sina.com.cn/c/zs/2018-09-25/doc-ifxeuwwr7809429.shtml'}\n",
      "{'title': '新京报：降低社保费率需要 “全国一盘棋”', 'href': 'http://news.sina.com.cn/c/zs/2018-09-25/doc-ihkmwytn8645730.shtml'}\n",
      "{'title': '新京报评车顶放矿泉水豪车停女生宿舍楼下:想干啥', 'href': 'http://news.sina.com.cn/c/zs/2018-09-24/doc-ihkmwytn7622364.shtml'}\n",
      "{'title': '北京青年报谈家长给老师晒官谱:有绵里藏针的味道', 'href': 'http://news.sina.com.cn/c/zs/2018-09-23/doc-ihkmwytn6040663.shtml'}\n",
      "{'title': '北京青年报谈为子报仇：校园戾气加重须引起警惕', 'href': 'http://news.sina.com.cn/c/zs/2018-09-23/doc-ifxeuwwr7297752.shtml'}\n",
      "{'title': '媒体:报仇秀官职 家长替孩子做的不该是这些事', 'href': 'http://news.sina.com.cn/c/zs/2018-09-22/doc-ihkmwytn5908023.shtml'}\n",
      "{'title': '媒体谈强奸和解及为子报仇:该和不和何来冰释前嫌', 'href': 'http://news.sina.com.cn/o/2018-09-22/doc-ifxeuwwr7205427.shtml'}\n",
      "{'title': '新京报：打击诈骗分子何必株连子女', 'href': 'http://news.sina.com.cn/c/zs/2018-09-21/doc-ifxeuwwr6778457.shtml'}\n",
      "{'title': '蔡当局严打假新闻接连闹笑话 连这些人也不放过', 'href': 'http://news.sina.com.cn/c/gat/2018-09-21/doc-ihkhfqnt3561600.shtml'}\n",
      "{'title': '陆客减半 台业界推“雪崩式”超低价仍等不到游客', 'href': 'http://news.sina.com.cn/c/gat/2018-09-21/doc-ihkhfqnt3561613.shtml'}\n",
      "{'title': '李登辉被传家中死亡 蔡英文急登门送鸡汤证其没死', 'href': 'http://news.sina.com.cn/c/gat/2018-09-20/doc-ihkhfqnt3423879.shtml'}\n",
      "{'title': '陆委会要对申领大陆居住证者下重手 申办两次除籍', 'href': 'http://news.sina.com.cn/c/gat/2018-09-20/doc-ifxeuwwr6206039.shtml'}\n",
      "{'title': '蔡英文贴身保镖被爆偷情丑闻 同大12岁女军官开房', 'href': 'http://news.sina.com.cn/c/gat/2018-09-20/doc-ihkhfqnt1170679.shtml'}\n",
      "{'title': '蔡办再爆不伦丑闻 蔡英文保镖偷吃人妻女上校(图)', 'href': 'http://news.sina.com.cn/c/gat/2018-09-20/doc-ifxeuwwr6210092.shtml'}\n",
      "{'title': '台嘉义发生当街砍人案 现场血迹斑斑警方全力追凶', 'href': 'http://news.sina.com.cn/c/gat/2018-09-19/doc-ihkhfqnt0776193.shtml'}\n",
      "{'title': '媒体谈整容逐渐“低龄化”：孩子审美观被带偏', 'href': 'http://news.sina.com.cn/s/2018-09-19/doc-ihkhfqns8206969.shtml'}\n",
      "{'title': '新京报：昆山反杀案已了 别再让当事人喘不过气', 'href': 'http://news.sina.com.cn/c/2018-09-19/doc-ifxeuwwr5935765.shtml'}\n",
      "{'title': '民进党“东厂”被爆闹内斗 蓝营呼吁快点总辞职', 'href': 'http://news.sina.com.cn/c/gat/2018-09-19/doc-ifxeuwwr5846393.shtml'}\n",
      "{'title': '台首次为“台独”分子建公园 蔡英文出席启用仪式', 'href': 'http://news.sina.com.cn/c/gat/2018-09-19/doc-ihkhfqns6923381.shtml'}\n",
      "{'title': '“居里夫人”在台又“复活” 新课纲反反复复挨批', 'href': 'http://news.sina.com.cn/c/gat/2018-09-19/doc-ihkhfqns6878023.shtml'}\n",
      "{'title': '反“间”记：台海谍战密档(图)', 'href': 'http://news.sina.com.cn/c/gat/2018-09-19/doc-ifxeuwwr5803159.shtml'}\n",
      "{'title': '媒体批孕妇被看厕所:频频被“踢皮球”合法权益呢', 'href': 'http://news.sina.com.cn/c/zs/2018-09-18/doc-ifxeuwwr5555221.shtml'}\n",
      "{'title': '清北硕博+普校本科生 媒体:国企校招当经得起质疑', 'href': 'http://news.sina.com.cn/c/zs/2018-09-18/doc-ifxeuwwr5487824.shtml'}\n",
      "{'title': '新京报谈北马男子“咸猪手”：不妨等等调查结果', 'href': 'http://news.sina.com.cn/c/zs/2018-09-18/doc-ihkhfqns2575175.shtml'}\n",
      "{'title': '瑞媒称中国游客事件或由中方故意导演 中使馆驳斥', 'href': 'http://news.sina.com.cn/c/nd/2018-09-18/doc-ifxeuwwr5405283.shtml'}\n",
      "{'title': '台北捷运传歹徒持刀刺人 女子胸口被划伤15厘米', 'href': 'http://news.sina.com.cn/s/2018-09-17/doc-ihkhfqns1051134.shtml'}\n",
      "{'title': '先亡“中国史” 台当局“去中国化”课纲审议通过', 'href': 'http://news.sina.com.cn/c/gat/2018-09-17/doc-ifxeuwwr5144984.shtml'}\n",
      "{'title': '台“驻日代表”谢长廷：台湾爱中国的人太多', 'href': 'http://news.sina.com.cn/o/2018-09-17/doc-ifxeuwwr5103173.shtml'}\n",
      "{'title': '台当局修课纲要居里夫人不再从夫姓 遭批正事不办', 'href': 'http://news.sina.com.cn/o/2018-09-17/doc-ifxeuwwr5060679.shtml'}\n",
      "{'title': '台当局咬死不认间谍案 国台办警告：停止渗透大陆', 'href': 'http://news.sina.com.cn/c/gat/2018-09-16/doc-ihkahyhx6633879.shtml'}\n",
      "{'title': '间谍物色大陆学生拉拢策反 除了色诱还有这些手段', 'href': 'http://news.sina.com.cn/c/2018-09-16/doc-ifxeuwwr4830249.shtml'}\n",
      "{'title': '美国是否“真心挺台”？特朗普一句话就暴露了', 'href': 'http://news.sina.com.cn/c/gat/2018-09-16/doc-ifxeuwwr4809819.shtml'}\n",
      "{'title': '大陆破获百起台湾间谍案 台当局妄称是“诬陷”', 'href': 'http://news.sina.com.cn/o/2018-09-16/doc-ifxeuwwr4806728.shtml'}\n",
      "{'title': '台大肆加强对大陆情报窃取和渗透破坏 国台办回应', 'href': 'http://news.sina.com.cn/o/2018-09-16/doc-ihkahyhx5984500.shtml'}\n",
      "{'title': '“假消息”都来自大陆?蔡英文的抹黑让台湾人无语', 'href': 'http://news.sina.com.cn/c/gat/2018-09-16/doc-ihkahyhx5736214.shtml'}\n",
      "{'title': '蔡英文“东厂”引社会反弹却拒绝整改 谁能服？', 'href': 'http://news.sina.com.cn/o/2018-09-16/doc-ifxeuwwr4782945.shtml'}\n",
      "{'title': '滴滴恢复深夜出行第一夜：新司机被刷 考核遭吐槽', 'href': 'http://news.sina.com.cn/c/nd/2018-09-16/doc-ihkahyhx5395308.shtml'}\n",
      "{'title': '著名表演艺术家朱旭去世 享年88岁', 'href': 'http://news.sina.com.cn/c/nd/2018-09-15/doc-ifxeuwwr4474842.shtml'}\n",
      "{'title': '台湾1名登山者攀登玉山东峰坠崖 已无生命迹象', 'href': 'http://news.sina.com.cn/o/2018-09-14/doc-ihkahyhw9147374.shtml'}\n",
      "{'title': '蔡英文别惦记了 五角大楼拒派海军陆战队进台湾', 'href': 'http://news.sina.com.cn/c/gat/2018-09-14/doc-ihkahyhw8934893.shtml'}\n",
      "{'title': '台学者：蔡当局反制居住证 只会把民心推的更远', 'href': 'http://news.sina.com.cn/c/gat/2018-09-14/doc-ihkahyhw8582512.shtml'}\n",
      "{'title': '原来为小鬼子歌功颂德的“台湾之塔” 题词人是她', 'href': 'http://news.sina.com.cn/c/gat/2018-09-14/doc-ihiixzkm8608481.shtml'}\n",
      "{'title': '蔡省长心心念念的这件事 美国不能帮她实现了', 'href': 'http://news.sina.com.cn/c/gat/2018-09-14/doc-ihiixyeu7391217.shtml'}\n",
      "{'title': '外媒:美官员透露国防部拒绝向台派陆战队驻守AITT', 'href': 'http://news.sina.com.cn/c/gat/2018-09-14/doc-ihiixzkm8593677.shtml'}\n",
      "{'title': '美国“亲台”这碗饭 台湾还能吃多久？', 'href': 'http://news.sina.com.cn/c/gat/2018-09-14/doc-ihkahyhw8141459.shtml'}\n",
      "{'title': '台湾网友为这事都在说：感谢祖国给了台湾尊严', 'href': 'http://news.sina.com.cn/o/2018-09-12/doc-ihiycyfx9732896.shtml'}\n",
      "{'title': '谢长廷回应辱慰安妇像：台湾也有人对日本人暴力', 'href': 'http://news.sina.com.cn/c/gat/2018-09-12/doc-ihiycyfx9677785.shtml'}\n",
      "{'title': '民进党眼中钉？花莲县长被判入狱8月遭台当局解职', 'href': 'http://news.sina.com.cn/c/gat/2018-09-12/doc-ihiixzkm7877325.shtml'}\n",
      "{'title': '辱慰安妇像日本人辞职 所属团体道歉但仍否认历史', 'href': 'http://news.sina.com.cn/c/gat/2018-09-12/doc-ihiycyfx9110741.shtml'}\n",
      "{'title': '柯文哲抢“军公教”选票？释5万职缺让退休者兼职', 'href': 'http://news.sina.com.cn/c/gat/2018-09-12/doc-ihiycyfx8893766.shtml'}\n",
      "{'title': '台“党产会”将冻结“中影”资产:国民党附随组织', 'href': 'http://news.sina.com.cn/c/gat/2018-09-12/doc-ihiixyeu6633529.shtml'}\n",
      "{'title': '台“促转会”沦为民进党选举打手 官员以东厂自居', 'href': 'http://news.sina.com.cn/c/gat/2018-09-12/doc-ihiixzkm7848157.shtml'}\n",
      "{'title': '登革热疫情在台延烧 今年已有107例本土病例', 'href': 'http://news.sina.com.cn/c/2018-09-12/doc-ihiycyfx8772948.shtml'}\n",
      "{'title': '这次 把“台湾国护照”带到日本也没用了(图)', 'href': 'http://news.sina.com.cn/c/gat/2018-09-12/doc-ihiycyfx8935122.shtml'}\n",
      "{'title': '台派17人赴帕劳推销水果仅干1天正事 被批假考察', 'href': 'http://news.sina.com.cn/c/gat/2018-09-12/doc-ihiycyfx8847329.shtml'}\n",
      "{'title': '吴敦义:国民党年底至少能赢10县市 不理想就下台', 'href': 'http://news.sina.com.cn/c/gat/2018-09-12/doc-ihiixyeu6590721.shtml'}\n",
      "{'title': '国台办:民进党搞什么花样都阻挡不了祖国统一进程', 'href': 'http://news.sina.com.cn/o/2018-09-12/doc-ihiycyfx8182173.shtml'}\n",
      "{'title': '台记者问台湾人海外向大陆求助有无条件?答案在这', 'href': 'http://news.sina.com.cn/c/gat/2018-09-12/doc-ihiycyfx8153359.shtml'}\n",
      "{'title': '民进党支持率骤降党内内讧 前“绿委”猛批蔡英文', 'href': 'http://news.sina.com.cn/c/gat/2018-09-12/doc-ihiycyfx8205421.shtml'}\n",
      "{'title': '国台办：逾2.2万名台胞已申领台湾居民居住证', 'href': 'http://news.sina.com.cn/c/2018-09-12/doc-ihiycyfx8024784.shtml'}\n",
      "{'title': '中国4艘海警船进入钓鱼岛领海巡航 遭到日方监视', 'href': 'http://news.sina.com.cn/c/nd/2018-09-12/doc-ihiycyfx7821477.shtml'}\n",
      "{'title': '央视台长吐槽俄酒店肥皂：太粗糙 可从中国进口', 'href': 'http://news.sina.com.cn/c/nd/2018-09-12/doc-ihiycyfx7764973.shtml'}\n",
      "{'title': '网秦创始人与董事长隔空互怼 绑架到底有没有？', 'href': 'http://news.sina.com.cn/c/nd/2018-09-12/doc-ihiycyfx7523154.shtml'}\n",
      "{'title': '国民党大佬郝伯村夫人病逝 子郝龙斌望低调办后事', 'href': 'http://news.sina.com.cn/c/nd/2018-09-12/doc-ihiycyfx7496113.shtml'}\n",
      "{'title': '美在中萨建交后采取所谓“挺台”措施 国台办回应', 'href': 'http://news.sina.com.cn/c/nd/2018-09-12/doc-ihiixzkm7735458.shtml'}\n",
      "{'title': '国台办：台湾同胞在海外遇困难 祖国都是坚强后盾', 'href': 'http://news.sina.com.cn/o/2018-09-12/doc-ihiycyfx7297319.shtml'}\n",
      "{'title': '斯威士兰大概率“抛弃台湾”？国台办：大势所趋', 'href': 'http://news.sina.com.cn/c/nd/2018-09-12/doc-ihiixzkm7728113.shtml'}\n",
      "{'title': '日方代表脚踹慰安妇铜像引公愤 国台办:跳梁小丑', 'href': 'http://news.sina.com.cn/o/2018-09-12/doc-ihiixyeu6539041.shtml'}\n",
      "{'title': '居住证推出后台胞证功能被弱化？国台办回应', 'href': 'http://news.sina.com.cn/c/nd/2018-09-12/doc-ihiycyfx6821059.shtml'}\n",
      "{'title': '大陆通过居住证收集台湾居民个人资料?国台办回应', 'href': 'http://news.sina.com.cn/c/nd/2018-09-12/doc-ihiycyfx6796078.shtml'}\n",
      "{'title': '国台办：居住证受台胞欢迎 已有超2.2万人申领', 'href': 'http://news.sina.com.cn/c/nd/2018-09-12/doc-ihiycyfx6858800.shtml'}\n",
      "{'title': '“台独推奥运正名公投”已达联署门槛?国台办回应', 'href': 'http://news.sina.com.cn/c/nd/2018-09-12/doc-ihiycyfx6757170.shtml'}\n",
      "{'title': '民进党称居住证是“统战”国台办:抹黑是他们本性', 'href': 'http://news.sina.com.cn/c/nd/2018-09-12/doc-ihiycyfx6699972.shtml'}\n",
      "{'title': '国台办:台湾同胞可同大陆同胞享受一样的就业环境', 'href': 'http://news.sina.com.cn/c/nd/2018-09-12/doc-ihiycyfx6740502.shtml'}\n",
      "{'title': '网传陕西米脂县致9死案凶手被执死刑？警方：不实', 'href': 'http://news.sina.com.cn/c/nd/2018-09-12/doc-ihiycyfx6559805.shtml'}\n",
      "{'title': '美国召回三国大使是因为台湾？真相可能令台扎心', 'href': 'http://news.sina.com.cn/o/2018-09-12/doc-ihiycyfx6388060.shtml'}\n",
      "{'title': '俄基金将与中国进行非美元交易 首笔业务明年展开', 'href': 'http://news.sina.com.cn/c/nd/2018-09-12/doc-ihiixzkm7682767.shtml'}\n"
     ]
    }
   ],
   "source": [
    "'''\n",
    "sina国内新闻https://news.sina.com.cn/china/，最新新闻4页的抓取\n",
    "1.分析网页，点击不同的页码，network-js-getpageid 得到网页链接，并发现网页区别在page={}\n",
    "2.尝试抓取第一页的内容，只抓title,url,driver.get--page_source--清理strip()--json.loads(json转换成python对象)--jsonpath\n",
    "3.把抓取第一页写进get_info()函数中，得到urls集合装后几页的url\n",
    "4.在for url in urls循环中抓取设置的后几页的内容，过程中睡眠1秒。\n",
    "问题和困难也许是暂时的，解决的方法就藏在你坚持前进的道路上。\n",
    "'''\n",
    "from selenium import webdriver\n",
    "import json\n",
    "import jsonpath\n",
    "import time\n",
    "from selenium.webdriver.chrome.options import Options\n",
    "\n",
    "\n",
    "def get_info(u):\n",
    "    chrome_options = Options()\n",
    "    chrome_options.add_argument('--headless')\n",
    "    driver = webdriver.Chrome(chrome_options=chrome_options)\n",
    "    \n",
    "    driver.get(u)\n",
    "    html = driver.page_source\n",
    "    jd=html.lstrip('<html xmlns=\"http://www.w3.org/1999/xhtml\"><head></head><body><pre style=\"word-wrap: break-word; white-space: pre-wrap;\">').rstrip('</pre></body></html>')\n",
    "    a = json.loads(jd)\n",
    "    titles = jsonpath.jsonpath(a,'$.result.data[*].title')\n",
    "    url = jsonpath.jsonpath(a,'$.result.data[*].url')\n",
    "    for title,href in zip(titles,url):\n",
    "        data={\n",
    "            'title':title,\n",
    "            'href':href\n",
    "\n",
    "        }\n",
    "        print(data)\n",
    "urls = ['https://feed.sina.com.cn/api/roll/get?pageid=121&lid=1356&num=20&versionNumber=1.2.4&page={}&encode=utf-8'.format(str(i)) for i in range(1,5)]\n",
    "for url in urls:\n",
    "    get_info(url)\n",
    "    time.sleep(1)\n",
    "    \n"
   ]
  },
  {
   "cell_type": "code",
   "execution_count": null,
   "metadata": {},
   "outputs": [],
   "source": []
  },
  {
   "cell_type": "code",
   "execution_count": null,
   "metadata": {},
   "outputs": [],
   "source": []
  },
  {
   "cell_type": "code",
   "execution_count": null,
   "metadata": {},
   "outputs": [],
   "source": []
  },
  {
   "cell_type": "code",
   "execution_count": null,
   "metadata": {},
   "outputs": [],
   "source": []
  },
  {
   "cell_type": "code",
   "execution_count": null,
   "metadata": {},
   "outputs": [],
   "source": []
  },
  {
   "cell_type": "code",
   "execution_count": null,
   "metadata": {},
   "outputs": [],
   "source": []
  }
 ],
 "metadata": {
  "kernelspec": {
   "display_name": "Python 3",
   "language": "python",
   "name": "python3"
  },
  "language_info": {
   "codemirror_mode": {
    "name": "ipython",
    "version": 3
   },
   "file_extension": ".py",
   "mimetype": "text/x-python",
   "name": "python",
   "nbconvert_exporter": "python",
   "pygments_lexer": "ipython3",
   "version": "3.6.4"
  }
 },
 "nbformat": 4,
 "nbformat_minor": 2
}
