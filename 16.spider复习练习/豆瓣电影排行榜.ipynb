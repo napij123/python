{
 "cells": [
  {
   "cell_type": "code",
   "execution_count": 2,
   "metadata": {},
   "outputs": [],
   "source": [
    "import requests\n",
    "from bs4 import BeautifulSoup\n",
    "import json\n",
    "res = requests.get('https://movie.douban.com/j/chart/top_list?type=11&interval_id=100%3A90&action=&start=0&limit=20')\n",
    "\n",
    "#res.text"
   ]
  },
  {
   "cell_type": "code",
   "execution_count": 3,
   "metadata": {},
   "outputs": [
    {
     "name": "stdout",
     "output_type": "stream",
     "text": [
      "1 肖申克的救赎 ['犯罪', '剧情'] ['美国'] 1141665 https://movie.douban.com/subject/1292052/\n",
      "2 霸王别姬 ['剧情', '爱情', '同性'] ['中国大陆', '香港'] 832937 https://movie.douban.com/subject/1291546/\n",
      "3 控方证人 ['剧情', '犯罪', '悬疑'] ['美国'] 132539 https://movie.douban.com/subject/1296141/\n",
      "4 美丽人生 ['剧情', '喜剧', '爱情', '战争'] ['意大利'] 525758 https://movie.douban.com/subject/1292063/\n",
      "5 这个杀手不太冷 ['剧情', '动作', '犯罪'] ['法国'] 1055262 https://movie.douban.com/subject/1295644/\n",
      "6 阿甘正传 ['剧情', '爱情'] ['美国'] 901229 https://movie.douban.com/subject/1292720/\n",
      "7 辛德勒的名单 ['剧情', '历史', '战争'] ['美国'] 475067 https://movie.douban.com/subject/1295124/\n",
      "8 十二怒汉 ['剧情'] ['美国'] 205915 https://movie.douban.com/subject/1293182/\n",
      "9 泰坦尼克号 3D版 ['剧情', '爱情', '灾难'] ['美国'] 169859 https://movie.douban.com/subject/5450891/\n",
      "10 灿烂人生 ['剧情', '爱情', '家庭'] ['意大利'] 26593 https://movie.douban.com/subject/1291831/\n",
      "11 背靠背，脸对脸 ['剧情'] ['中国大陆', '香港'] 24443 https://movie.douban.com/subject/1307856/\n",
      "12 茶馆 ['剧情', '历史'] ['中国大陆'] 21077 https://movie.douban.com/subject/1461403/\n",
      "13 十二怒汉 ['剧情', '犯罪', '悬疑'] ['美国'] 5610 https://movie.douban.com/subject/10583098/\n",
      "14 控方证人 ['剧情', '犯罪', '悬疑'] ['美国', '英国'] 3390 https://movie.douban.com/subject/5294851/\n",
      "15 盗梦空间 ['剧情', '科幻', '悬疑', '冒险'] ['美国', '英国'] 924874 https://movie.douban.com/subject/3541415/\n",
      "16 泰坦尼克号 ['剧情', '爱情', '灾难'] ['美国'] 837443 https://movie.douban.com/subject/1292722/\n",
      "17 千与千寻 ['剧情', '动画', '奇幻'] ['日本'] 836499 https://movie.douban.com/subject/1291561/\n",
      "18 忠犬八公的故事 ['剧情'] ['美国', '英国'] 590589 https://movie.douban.com/subject/3011091/\n",
      "19 巴黎圣母院 ['剧情', '爱情', '音乐'] ['法国'] 3563 https://movie.douban.com/subject/20326557/\n",
      "20 三傻大闹宝莱坞 ['剧情', '喜剧', '爱情', '歌舞'] ['印度'] 829885 https://movie.douban.com/subject/3793023/\n"
     ]
    }
   ],
   "source": [
    "data = json.loads(res.text)\n",
    "\n",
    "for i in data:\n",
    "    print(i['rank'],i['title'],i['types'],i['regions'],i['vote_count'],i['url'])"
   ]
  },
  {
   "cell_type": "code",
   "execution_count": 4,
   "metadata": {},
   "outputs": [
    {
     "name": "stdout",
     "output_type": "stream",
     "text": [
      "请输入排名：60\n"
     ]
    }
   ],
   "source": [
    "import requests\n",
    "import json\n",
    "import pandas\n",
    "newsid = int(input('请输入排名：'))\n",
    "\n",
    "url = 'https://movie.douban.com/j/chart/top_list?type=11&interval_id=100%3A90&action=&start=0&limit={0}'.format(newsid)\n",
    "\n",
    "    \n",
    "res = requests.get(url)\n",
    "data = json.loads(res.text)\n",
    "t = []\n",
    "\n",
    "for i in data:\n",
    "    t.append(i['rank'])\n",
    "    t.append(i['title'])\n",
    "    t.append(i['types'])\n",
    "    t.append(i['regions'])\n",
    "    t.append(i['actors'][0])\n",
    "    t.append(i['actors'][1])\n",
    "    t.append(i['url'])\n",
    "    #print(i['rank'],i['title'],i['types'],i['regions'],i['actors'][0],i['actors'][1],i['url'])\n",
    "\n",
    "df = pandas.DataFrame(t)\n",
    "df.to_csv('douban')"
   ]
  },
  {
   "cell_type": "code",
   "execution_count": null,
   "metadata": {},
   "outputs": [],
   "source": []
  },
  {
   "cell_type": "code",
   "execution_count": null,
   "metadata": {},
   "outputs": [],
   "source": []
  },
  {
   "cell_type": "code",
   "execution_count": null,
   "metadata": {},
   "outputs": [],
   "source": []
  },
  {
   "cell_type": "code",
   "execution_count": null,
   "metadata": {},
   "outputs": [],
   "source": []
  },
  {
   "cell_type": "code",
   "execution_count": null,
   "metadata": {},
   "outputs": [],
   "source": []
  }
 ],
 "metadata": {
  "kernelspec": {
   "display_name": "Python 3",
   "language": "python",
   "name": "python3"
  },
  "language_info": {
   "codemirror_mode": {
    "name": "ipython",
    "version": 3
   },
   "file_extension": ".py",
   "mimetype": "text/x-python",
   "name": "python",
   "nbconvert_exporter": "python",
   "pygments_lexer": "ipython3",
   "version": "3.6.4"
  }
 },
 "nbformat": 4,
 "nbformat_minor": 2
}
