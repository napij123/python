{
 "cells": [
  {
   "cell_type": "code",
   "execution_count": 42,
   "metadata": {},
   "outputs": [],
   "source": [
    "# selenium chromedriver安装成功测试\n",
    "# 无头模式没有设置成功。？\n",
    "from selenium import webdriver\n",
    "\n",
    "browser = webdriver.Chrome()\n",
    "browser.get('http://www.baidu.com/')\n",
    "#print(browser.page_source)"
   ]
  },
  {
   "cell_type": "code",
   "execution_count": 47,
   "metadata": {},
   "outputs": [
    {
     "name": "stdout",
     "output_type": "stream",
     "text": [
      "糯米\n",
      "新闻\n",
      "hao123\n",
      "地图\n",
      "视频\n",
      "贴吧\n",
      "登录\n",
      "设置\n",
      "更多产品\n",
      "把百度设为主页关于百度About Baidu\n",
      "?2015 Baidu 使用百度前必读 意见反馈 京ICP证030173号\n"
     ]
    }
   ],
   "source": [
    "# 无头模式设置\n",
    "from selenium import webdriver\n",
    "from selenium.webdriver.chrome.options import Options\n",
    "chrome_options = Options()\n",
    "chrome_options.add_argument('--headless')\n",
    "driver = webdriver.Chrome(chrome_options=chrome_options)\n",
    "\n",
    "driver.get(\"http://www.baidu.com/\")\n",
    "data = driver.find_element_by_id(\"wrapper\").text\n",
    "print(data)\n",
    "driver.quit()"
   ]
  },
  {
   "cell_type": "code",
   "execution_count": 14,
   "metadata": {},
   "outputs": [],
   "source": [
    "from selenium import webdriver\n",
    "driver = webdriver.Chrome()\n",
    "driver.get('https://www.douban.com/')\n",
    "driver.implicitly_wait(5)\n",
    "driver.find_element_by_id('form_email').clear()\n",
    "driver.find_element_by_id('form_email').send_keys('13972223069')\n",
    "driver.find_element_by_id('form_password').clear()\n",
    "driver.find_element_by_id('form_password').send_keys('13972223069')\n",
    "driver.find_element_by_class_name('bn-submit').click()\n",
    "#print(driver.page_source)\n",
    "with open('driver.html','w',encoding='utf-8') as f:\n",
    "    f.write(driver.page_source)"
   ]
  },
  {
   "cell_type": "code",
   "execution_count": 19,
   "metadata": {},
   "outputs": [],
   "source": [
    "from selenium import webdriver\n",
    "driver = webdriver.Chrome()\n",
    "driver.get('http://home.51cto.com/index?reback=http://www.51cto.com/')\n",
    "driver.implicitly_wait(5)\n",
    "driver.find_element_by_id('loginform-username').clear()\n",
    "driver.find_element_by_id('loginform-username').send_keys('napij')\n",
    "driver.find_element_by_id('loginform-password').clear()\n",
    "driver.find_element_by_id('loginform-password').send_keys('13972223069')\n",
    "driver.find_element_by_class_name('loginbtn').click()   #  class_name 取完整的会报错，只取其中一部分"
   ]
  },
  {
   "cell_type": "code",
   "execution_count": 27,
   "metadata": {},
   "outputs": [
    {
     "name": "stdout",
     "output_type": "stream",
     "text": [
      "张梓彧 2017.12.27 22:07* 字数 4636 阅读 31087 评论 161 喜欢 335 ['首页投稿（暂停...', '短篇小说', '二次元', '火影小说家征文', '同人志', '原创小说汇', '南阳师范学院']\n"
     ]
    }
   ],
   "source": [
    "from selenium import webdriver\n",
    "driver = webdriver.Chrome()\n",
    "driver.get('https://www.jianshu.com/p/aa4a1829840f')\n",
    "include_title = []\n",
    "driver.implicitly_wait(5)\n",
    "author = driver.find_element_by_xpath('//span[@class=\"name\"]/a').text\n",
    "date = driver.find_element_by_xpath('//span[@class=\"publish-time\"]').text\n",
    "word = driver.find_element_by_xpath('//span[@class=\"wordage\"]').text\n",
    "view = driver.find_element_by_xpath('//span[@class=\"views-count\"]').text\n",
    "comment = driver.find_element_by_xpath('//span[@class=\"comments-count\"]').text\n",
    "like = driver.find_element_by_xpath('//span[@class=\"likes-count\"]').text\n",
    "include_names = driver.find_elements_by_xpath('//div[@class=\"include-collection\"]/a/div')  # 如果是find_element 会报错，因为寻找的是一组元素\n",
    "for i in include_names:\n",
    "    include_title.append(i.text)\n",
    "print(author,date,word,view,comment,like,include_title)"
   ]
  },
  {
   "cell_type": "code",
   "execution_count": null,
   "metadata": {},
   "outputs": [],
   "source": []
  },
  {
   "cell_type": "code",
   "execution_count": 1,
   "metadata": {},
   "outputs": [
    {
     "name": "stdout",
     "output_type": "stream",
     "text": [
      "范长龙孙建国王国生3名卸去军职上将一同出席活动\n",
      "http://news.sina.com.cn/o/2018-09-16/doc-ihkahyhx8837688.shtml\n",
      "瑞典警察粗暴对待中国游客 中国大使接受瑞媒专访\n",
      "http://news.sina.com.cn/c/2018-09-16/doc-ifxeuwwr4970498.shtml\n",
      "台北101大厦前飘扬五星红旗 绿媒又着急了(图)\n",
      "http://news.sina.com.cn/c/2018-09-16/doc-ihkahyhx8308034.shtml\n",
      "台女间谍“变身”渗透大陆要害部门:专盯绝密文件\n",
      "http://news.sina.com.cn/c/2018-09-16/doc-ifxeuwwr4967916.shtml\n",
      "台“去中”新课纲通过 统派：实质台独最后一步\n",
      "http://news.sina.com.cn/c/2018-09-17/doc-ifxeuwwr5099908.shtml\n",
      "深圳超万家企业迁出 转型再造下一个“华为”？\n",
      "http://news.sina.com.cn/c/zj/2018-09-17/doc-ifxeuwwr5086064.shtml\n",
      "他被称真正的中国脊梁 弥留之际写下这十个字\n",
      "http://news.sina.com.cn/c/2018-09-17/doc-ifxeuwwr5070919.shtml\n",
      "台间谍策反陆生案内幕曝光:色诱要挟无所不用其极\n",
      "http://news.sina.com.cn/o/2018-09-17/doc-ifxeuwwr5073797.shtml\n",
      "亲历“山竹”24小时：整座大楼都在晃\n",
      "http://news.sina.com.cn/c/2018-09-17/doc-ihkahyhx9840920.shtml\n",
      "名导演炮轰收视率造假播前先交7200万 国家出手了\n",
      "http://news.sina.com.cn/c/2018-09-17/doc-ihkahyhx9827213.shtml\n",
      "两节期间这些“线”不要踩 月饼这样吃就违纪了\n",
      "http://news.sina.com.cn/c/2018-09-17/doc-ihkahyhx9788766.shtml\n",
      "蔡英文谈两岸关系“甩锅”大陆遭批:贼喊抓贼\n",
      "http://news.sina.com.cn/c/2018-09-17/doc-ifxeuwwr5059671.shtml\n",
      "参加纪委拍卖能“捡漏儿”么？\n",
      "http://news.sina.com.cn/c/2018-09-17/doc-ihkahyhx9714452.shtml\n",
      "媒体评红芯造假:不要站在巨人的肩膀上蹬鼻子上脸\n",
      "http://news.sina.com.cn/c/2018-09-17/doc-ifxeuwwr5046421.shtml\n",
      "中日两国迎来第5次经济热潮 “政冷经冷”将结束?\n",
      "http://news.sina.com.cn/c/zj/2018-09-17/doc-ifxeuwwr5044719.shtml\n"
     ]
    }
   ],
   "source": [
    "'''\n",
    "爬取新浪国内中间部分新闻\n",
    "1.分析网页，上面黑体在class为news-1的下面，用soup.select('.news-1')\n",
    "下面的在class为news-2的下面，用soup.select('.news-2')\n",
    "2.for循环找到里面a标签的内容\n",
    "3.打印a标签内的text和href\n",
    "'''\n",
    "import requests\n",
    "from bs4 import BeautifulSoup\n",
    "res = requests.get('https://news.sina.com.cn/china/')\n",
    "res.encoding = 'utf-8'\n",
    "soup = BeautifulSoup(res.text,'html.parser')\n",
    "\n",
    "for news in soup.select('.news-1'):\n",
    "    for i in news.select('a'):\n",
    "        print(i.text)\n",
    "        print(i['href'])\n",
    "for news in soup.select('.news-2'):\n",
    "    for i in news.select('a'):\n",
    "        print(i.text)\n",
    "        print(i['href'])"
   ]
  },
  {
   "cell_type": "code",
   "execution_count": 3,
   "metadata": {},
   "outputs": [
    {
     "data": {
      "text/plain": [
       "'中国抗战军装现身靖国神社 “军人”身份揭晓(图)'"
      ]
     },
     "execution_count": 3,
     "metadata": {},
     "output_type": "execute_result"
    }
   ],
   "source": [
    "# 抓取内文中的标题\n",
    "import requests\n",
    "from bs4 import BeautifulSoup\n",
    "res = requests.get('http://news.sina.com.cn/c/2018-09-05/doc-ihiqtcap4420917.shtml')\n",
    "res.encoding = 'utf-8'\n",
    "soup = BeautifulSoup(res.text,'html.parser')\n",
    "#print(res.text)\n",
    "soup.select('.main-title')[0].text\n",
    "\n"
   ]
  },
  {
   "cell_type": "code",
   "execution_count": 146,
   "metadata": {},
   "outputs": [
    {
     "name": "stdout",
     "output_type": "stream",
     "text": [
      "2018年09月05日 08:13\n",
      "<class 'str'>\n",
      "2018-09-05 08:13:00\n"
     ]
    }
   ],
   "source": [
    "#抓取内文中的时间，并时间转换\n",
    "from datetime import datetime\n",
    "timesource = soup.select('.date-source')[0].contents[1].text\n",
    "print(timesource)\n",
    "\n",
    "print(type(timesource))\n",
    "time=datetime.strptime(timesource,'%Y年%m月%d日 %H:%M')\n",
    "print(time)\n",
    "\n"
   ]
  },
  {
   "cell_type": "code",
   "execution_count": 31,
   "metadata": {},
   "outputs": [
    {
     "data": {
      "text/plain": [
       "'环球时报'"
      ]
     },
     "execution_count": 31,
     "metadata": {},
     "output_type": "execute_result"
    }
   ],
   "source": [
    "soup.select('.date-source a')[0].text\n"
   ]
  },
  {
   "cell_type": "code",
   "execution_count": 54,
   "metadata": {},
   "outputs": [
    {
     "name": "stdout",
     "output_type": "stream",
     "text": [
      "['原标题：穿着军服去靖国神社纪念抗战胜利的“中国军人”身份揭晓！', '是 “中国爱国青年”，还是“日本精中分子“？', '近日，一组“中国抗战军装现身靖国神社”的照片在微博上流传。', '照片上，3名东亚面孔的青年身着抗战时期的中国军装，站在写有“靖国神社”的石碑前合影。而照片发布的时间，正好是1945年日本向盟军投降的日子，也是9·3中国抗日战争胜利纪念日的前一天。', '究竟是谁在这样的日子，进行了这样的“cosplay”？网友们也纷纷问道，这是日本的“精中”，还是中国的爱国青年？', '4日，《环球时报》联系到了这次活动的组织者、也是照片中站在中央的王同学。他告诉记者，照片是9月2日在靖国神社正门外拍摄的，3名身穿军装的青年都是中国在日留学生，“我们此次纪念活动是希望纪念我们民族赢得自由的日子。”', '王同学向《环球时报》记者介绍称，左边穿的灰蓝色军服是国民革命军第二十九军的军服，也就是著名的“大刀队”；中间的草绿色军服是中央军第八十八师的军官野战服；右边的黄色军服是川军军服。', '其实这次纪念活动最初计划在8月15日——日本宣布无条件投降的日子进行，王同学的一位朋友计划穿着中国军装前往靖国神社。但当日靖国神社聚集了大量前来参拜战犯日本右翼份子进行游行，场面十分混乱。', '与此同时，也有日本右翼份子上前骚扰、威胁王同学的朋友。考虑到人身安全，这次拍照计划被取消了。', '2日，王同学和他的2位朋友再次身穿中国军装，来到靖国神社前。这次没有右翼份子的干扰，他们成功拍下了这组照片。', '王同学来自山东，目前在日本学习，他的曾祖父曾经也是参加过抗战的中国军人。王同学对《环球时报》记者称，“我们组织这次纪念活动的初衷就是为了纪念中国民族抗战胜利赢得自由，以及向所有为中华民族的自由而献身的先烈致敬。”', '对于3名中国留学生的行为，不仅被大陆网友惊呼“勇士”“爱国”，也被台湾媒体注意到，不过被断章取义写成向“中华民国”抗战先烈致敬。', '“虽然我们身在日本，但我们非常想尽自己的一份力来纪念中华民族赢得自由与胜利的日子。”']\n"
     ]
    },
    {
     "data": {
      "text/plain": [
       "'原标题：穿着军服去靖国神社纪念抗战胜利的“中国军人”身份揭晓！\\n是 “中国爱国青年”，还是“日本精中分子“？\\n近日，一组“中国抗战军装现身靖国神社”的照片在微博上流传。\\n照片上，3名东亚面孔的青年身着抗战时期的中国军装，站在写有“靖国神社”的石碑前合影。而照片发布的时间，正好是1945年日本向盟军投降的日子，也是9·3中国抗日战争胜利纪念日的前一天。\\n究竟是谁在这样的日子，进行了这样的“cosplay”？网友们也纷纷问道，这是日本的“精中”，还是中国的爱国青年？\\n4日，《环球时报》联系到了这次活动的组织者、也是照片中站在中央的王同学。他告诉记者，照片是9月2日在靖国神社正门外拍摄的，3名身穿军装的青年都是中国在日留学生，“我们此次纪念活动是希望纪念我们民族赢得自由的日子。”\\n王同学向《环球时报》记者介绍称，左边穿的灰蓝色军服是国民革命军第二十九军的军服，也就是著名的“大刀队”；中间的草绿色军服是中央军第八十八师的军官野战服；右边的黄色军服是川军军服。\\n其实这次纪念活动最初计划在8月15日——日本宣布无条件投降的日子进行，王同学的一位朋友计划穿着中国军装前往靖国神社。但当日靖国神社聚集了大量前来参拜战犯日本右翼份子进行游行，场面十分混乱。\\n与此同时，也有日本右翼份子上前骚扰、威胁王同学的朋友。考虑到人身安全，这次拍照计划被取消了。\\n2日，王同学和他的2位朋友再次身穿中国军装，来到靖国神社前。这次没有右翼份子的干扰，他们成功拍下了这组照片。\\n王同学来自山东，目前在日本学习，他的曾祖父曾经也是参加过抗战的中国军人。王同学对《环球时报》记者称，“我们组织这次纪念活动的初衷就是为了纪念中国民族抗战胜利赢得自由，以及向所有为中华民族的自由而献身的先烈致敬。”\\n对于3名中国留学生的行为，不仅被大陆网友惊呼“勇士”“爱国”，也被台湾媒体注意到，不过被断章取义写成向“中华民国”抗战先烈致敬。\\n“虽然我们身在日本，但我们非常想尽自己的一份力来纪念中华民族赢得自由与胜利的日子。”'"
      ]
     },
     "execution_count": 54,
     "metadata": {},
     "output_type": "execute_result"
    }
   ],
   "source": [
    "#正文的整理\n",
    "article = []\n",
    "for p in soup.select('#article p')[:-1]:\n",
    "    article.append(p.text.strip())\n",
    "print(article)   \n",
    "'\\n'.join(article)"
   ]
  },
  {
   "cell_type": "code",
   "execution_count": 67,
   "metadata": {},
   "outputs": [
    {
     "data": {
      "text/plain": [
       "'张迪 '"
      ]
     },
     "execution_count": 67,
     "metadata": {},
     "output_type": "execute_result"
    }
   ],
   "source": [
    "soup.select('.show_author')[0].text.strip('责任编辑：')"
   ]
  },
  {
   "cell_type": "code",
   "execution_count": 5,
   "metadata": {},
   "outputs": [],
   "source": [
    "import requests\n",
    "import json\n",
    "res = requests.get('http://comment5.news.sina.com.cn/page/info?version=1&format=json&channel=gn&\\\n",
    "newsid=comos-hiqtcap4420917&group=undefined&compress=0&ie=utf-8&oe=utf-8&\\\n",
    "page=1&page_size=3&t_size=3&h_size=3&thread=1')\n",
    "jd = json.loads(res.text)\n",
    "#print(jd)\n"
   ]
  },
  {
   "cell_type": "code",
   "execution_count": 4,
   "metadata": {},
   "outputs": [
    {
     "data": {
      "text/plain": [
       "13015"
      ]
     },
     "execution_count": 4,
     "metadata": {},
     "output_type": "execute_result"
    }
   ],
   "source": [
    "jd['result']['count']['total']"
   ]
  },
  {
   "cell_type": "code",
   "execution_count": 102,
   "metadata": {},
   "outputs": [
    {
     "data": {
      "text/plain": [
       "'hiqtcap4420917'"
      ]
     },
     "execution_count": 102,
     "metadata": {},
     "output_type": "execute_result"
    }
   ],
   "source": [
    "#第一种方法清理出新闻ID\n",
    "newsurl = 'http://news.sina.com.cn/c/2018-09-05/doc-ihiqtcap4420917.shtml'\n",
    "newsurl.split('/')[-1].strip('.shtml').strip('doc-i')"
   ]
  },
  {
   "cell_type": "code",
   "execution_count": 118,
   "metadata": {},
   "outputs": [
    {
     "name": "stdout",
     "output_type": "stream",
     "text": [
      "hiqtcap4420917\n"
     ]
    }
   ],
   "source": [
    "#第二种方法来清理出新闻ID\n",
    "import re\n",
    "newsurl = 'http://news.sina.com.cn/c/2018-09-05/doc-ihiqtcap4420917.shtml'\n",
    "m = re.search('doc-i(.+).shtml' ,newsurl)\n",
    "newsid = m.group(1)\n",
    "print(newsid)"
   ]
  },
  {
   "cell_type": "code",
   "execution_count": 123,
   "metadata": {},
   "outputs": [
    {
     "data": {
      "text/plain": [
       "9"
      ]
     },
     "execution_count": 123,
     "metadata": {},
     "output_type": "execute_result"
    }
   ],
   "source": [
    "# 写个取得评论数的方法\n",
    "conmentURL = 'http://comment5.news.sina.com.cn/page/info?version=1&format=json&channel=gn&\\\n",
    "newsid=comos-{}&group=undefined&compress=0&ie=utf-8&oe=utf-8&\\\n",
    "page=1&page_size=3&t_size=3&h_size=3&thread=1'\n",
    "import requests\n",
    "import json\n",
    "def getConmentCounts(newsurl):\n",
    "    m = re.search('doc-i(.+).shtml',newsurl)\n",
    "    newsid = m.group(1)\n",
    "    res = requests.get(conmentURL.format(newsid))\n",
    "    jd = json.loads(res.text)\n",
    "    return jd['result']['count']['total']\n",
    "\n",
    "news = 'http://news.sina.com.cn/c/2018-09-05/doc-ihiixzkm4736483.shtml'\n",
    "getConmentCounts(news)"
   ]
  },
  {
   "cell_type": "code",
   "execution_count": 147,
   "metadata": {},
   "outputs": [
    {
     "data": {
      "text/plain": [
       "{'article': '原标题：香港特区行政长官林郑月娥澄清港铁三大不实传闻\\n[环球时报驻香港特约记者 龙珊]《广深港高铁（一地两检）条例》4日开始实施，西九龙站“内地口岸区”正式设立。据香港星岛日报网4日报道，当天约700名内地工作人员开始进驻西九龙站工作，为落实“一地两检”和本月23日正式通车做最后准备。此外，对于香港部分媒体日前报道的内地口岸区人员“亿元膳食费”“神秘B5楼层”、内地人员留港过夜等三大传闻，香港特区行政长官林郑月娥4日逐一做出澄清。\\n据“香港01”网站4日报道，林郑表示，3日晚并非正式通车仪式，只是双方工作层面交接，不存在部分舆论所谓的“鬼祟”进行。内地口岸区工作人员膳食费用会由内地方面支付，港铁只是负责招标。她还提及，内地口岸区的清洁费、水电费、维修保养费等，全部都是由内地负责，希望消除公众疑虑。\\n“香港01”网站3日独家报道西九龙站有“神秘的B5层”，内部职员可经B5层的狭窄通道，通往所有月台，引发香港舆论关注。公民党立法会议员陈淑庄表示，一直以来都只知道有B1至B4层，要求港府和港铁出面解释。林郑对此解释称，很多隧道工程都有类似安排，作用类似酒店后勤部门（Back of house），可以供工作人员通过，B5楼层并不神秘。港铁也表示，B5层是B4月台层之下的后勤通道，只供支援车站维修及作为消防紧急通道使用，不属内地口岸区范围，由港铁公司负责管理，亦非乘客使用的区域。由于通道在B4层之下，因此标示为B5层。\\n据《星岛日报》报道，还有消息称会有少数内地人员通宵驻守口岸区，与港府早前说法有分別。林郑月娥表示，内地机关人员不会离开口岸，亦不会在口岸居住，但由于非营运时间仍需要有人驻守，因此不论内地或香港，都需要人员分时工作，以准备翌日列车运作。\\n林郑表示，9月22日她会联同广东省省长马兴瑞主持开通仪式。由于高铁通车在即，舆论难免有担心和疑虑，运输及房屋局会在未来数日就各种细节，“公开透明解释，让公众有所适从”。\\n《星岛日报》还报道称，内地用以限制“严重失信人”搭乘高铁的“失信人名单制度”，亦会随高铁开通而引进到香港。在高铁香港段列车内吸烟、“严重扰乱铁路运输秩序，造成严重社会不良影响”、不合资格使用优待票等行为，都有可能被列入“黑名单”，在3个月至半年内被禁止购买高铁车票。',\n",
       " 'conments': 5,\n",
       " 'date-source': '环球网',\n",
       " 'editor': '余鹏飞 ',\n",
       " 'time': datetime.datetime(2018, 9, 5, 4, 0),\n",
       " 'title': '香港特区行政长官林郑月娥澄清港铁三大不实传闻'}"
      ]
     },
     "execution_count": 147,
     "metadata": {},
     "output_type": "execute_result"
    }
   ],
   "source": [
    "import requests\n",
    "from bs4 import BeautifulSoup\n",
    "def getNewsDetail(newsurl):\n",
    "    result = {}\n",
    "    res = requests.get(newsurl)\n",
    "    res.encoding = 'utf-8'\n",
    "    soup = BeautifulSoup(res.text,'html.parser')\n",
    "    result['title'] = soup.select('.main-title')[0].text\n",
    "    result['date-source'] = soup.select('.date-source a')[0].text\n",
    "    timesource = soup.select('.date-source')[0].contents[1].text\n",
    "    result['time'] = datetime.strptime(timesource,'%Y年%m月%d日 %H:%M')\n",
    "    # 抓取正文\n",
    "    article = []\n",
    "    for p in soup.select('#article p')[:-1]:\n",
    "        article.append(p.text.strip())\n",
    "    result['article'] = '\\n'.join(article)\n",
    "    \n",
    "    result['editor'] = soup.select('.show_author')[0].text.strip('责任编辑：')\n",
    "    result['conments'] = getConmentCounts(newsurl)\n",
    "    return result\n",
    "\n",
    "getNewsDetail('http://news.sina.com.cn/c/gat/2018-09-05/doc-ihiqtcap4141722.shtml')\n",
    "\n",
    "    \n",
    "    "
   ]
  },
  {
   "cell_type": "code",
   "execution_count": null,
   "metadata": {},
   "outputs": [],
   "source": []
  },
  {
   "cell_type": "code",
   "execution_count": null,
   "metadata": {},
   "outputs": [],
   "source": []
  },
  {
   "cell_type": "code",
   "execution_count": null,
   "metadata": {},
   "outputs": [],
   "source": []
  },
  {
   "cell_type": "code",
   "execution_count": null,
   "metadata": {},
   "outputs": [],
   "source": []
  },
  {
   "cell_type": "code",
   "execution_count": null,
   "metadata": {},
   "outputs": [],
   "source": []
  },
  {
   "cell_type": "code",
   "execution_count": null,
   "metadata": {},
   "outputs": [],
   "source": []
  },
  {
   "cell_type": "code",
   "execution_count": null,
   "metadata": {},
   "outputs": [],
   "source": []
  },
  {
   "cell_type": "code",
   "execution_count": null,
   "metadata": {},
   "outputs": [],
   "source": []
  }
 ],
 "metadata": {
  "kernelspec": {
   "display_name": "Python 3",
   "language": "python",
   "name": "python3"
  },
  "language_info": {
   "codemirror_mode": {
    "name": "ipython",
    "version": 3
   },
   "file_extension": ".py",
   "mimetype": "text/x-python",
   "name": "python",
   "nbconvert_exporter": "python",
   "pygments_lexer": "ipython3",
   "version": "3.6.4"
  }
 },
 "nbformat": 4,
 "nbformat_minor": 2
}
