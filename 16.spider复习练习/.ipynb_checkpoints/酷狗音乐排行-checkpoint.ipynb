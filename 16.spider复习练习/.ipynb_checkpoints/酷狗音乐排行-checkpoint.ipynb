{
 "cells": [
  {
   "cell_type": "code",
   "execution_count": 7,
   "metadata": {},
   "outputs": [],
   "source": [
    "'''\n",
    "酷狗音乐排行500爬取\n",
    "路漫漫 修远兮 怕白头 看少年 \n",
    "'''\n",
    "import requests\n",
    "from bs4 import BeautifulSoup\n",
    "url = 'http://www.kugou.com/yy/rank/home/1-8888.html?from=rank'\n",
    "headers = {\n",
    "    'User-Agent':'Mozilla/5.0 (Windows NT 6.1; WOW64) AppleWebKit/537.36 (KHTML, like Gecko) Chrome/63.0.3239.132 Safari/537.36'\n",
    "}\n",
    "\n",
    "r = requests.get(url,headers=headers)\n",
    "#print(r.text)\n",
    "soup = BeautifulSoup(r.text,'lxml')\n",
    "\n",
    "#soup.select('.pc_temp_num')\n",
    "\n",
    "#soup.select('.pc_temp_songlist ul > li > a')\n",
    "\n",
    "\n",
    "\n",
    "#soup.select('.pc_temp_time')\n",
    "\n"
   ]
  },
  {
   "cell_type": "code",
   "execution_count": 8,
   "metadata": {},
   "outputs": [
    {
     "name": "stdout",
     "output_type": "stream",
     "text": [
      "{'rank': '1', 'singer': 'Christine Welch', 'song': '一百万个可能', 'song_url': 'http://www.kugou.com/song/2pgtbd9.html', 'song_time': '4:35'}\n",
      "{'rank': '2', 'singer': '火箭少女101', 'song': '卡路里', 'song_url': 'http://www.kugou.com/song/o35k304.html', 'song_time': '3:52'}\n",
      "{'rank': '3', 'singer': '庄心妍', 'song': '再见只是陌生人', 'song_url': 'http://www.kugou.com/song/b273d85.html', 'song_time': '4:12'}\n",
      "{'rank': '4', 'singer': '蒙面哥、彭清', 'song': '我已经爱上你', 'song_url': 'http://www.kugou.com/song/o9iwh1e.html', 'song_time': '3:21'}\n",
      "{'rank': '5', 'singer': '蔡维泽', 'song': '你终究不爱这世界 (Live)', 'song_url': 'http://www.kugou.com/song/pm5wzf5.html', 'song_time': '4:13'}\n",
      "{'rank': '6', 'singer': '黑龙', 'song': '38度6', 'song_url': 'http://www.kugou.com/song/ootaieb.html', 'song_time': '3:11'}\n",
      "{'rank': '7', 'singer': '于文文', 'song': '体面', 'song_url': 'http://www.kugou.com/song/litny53.html', 'song_time': '4:42'}\n",
      "{'rank': '8', 'singer': '九局', 'song': '我已经爱上你', 'song_url': 'http://www.kugou.com/song/o227837.html', 'song_time': '1:32'}\n",
      "{'rank': '9', 'singer': '张北北', 'song': '拥抱你离去', 'song_url': 'http://www.kugou.com/song/b8rfh51.html', 'song_time': '4:02'}\n",
      "{'rank': '10', 'singer': '王北车', 'song': '陷阱', 'song_url': 'http://www.kugou.com/song/ngbn41a.html', 'song_time': '4:40'}\n",
      "{'rank': '11', 'singer': '刘子璇', 'song': '嘴巴嘟嘟', 'song_url': 'http://www.kugou.com/song/9mske39.html', 'song_time': '4:08'}\n",
      "{'rank': '12', 'singer': '袁娅维', 'song': '说散就散', 'song_url': 'http://www.kugou.com/song/l8twoe8.html', 'song_time': '4:02'}\n",
      "{'rank': '13', 'singer': '小潘潘、小峰峰', 'song': '学猫叫', 'song_url': 'http://www.kugou.com/song/mfv56b9.html', 'song_time': '3:29'}\n",
      "{'rank': '14', 'singer': '艾歌', 'song': '一曲红尘', 'song_url': 'http://www.kugou.com/song/imj2ue2.html', 'song_time': '4:25'}\n",
      "{'rank': '15', 'singer': '阿里郎', 'song': '隔壁泰山', 'song_url': 'http://www.kugou.com/song/n9vjgc2.html', 'song_time': '3:19'}\n",
      "{'rank': '16', 'singer': '胡66', 'song': '空空如也', 'song_url': 'http://www.kugou.com/song/lfyi01a.html', 'song_time': '3:31'}\n",
      "{'rank': '17', 'singer': 'G.E.M.邓紫棋', 'song': '倒数', 'song_url': 'http://www.kugou.com/song/ojv0552.html', 'song_time': '3:49'}\n",
      "{'rank': '18', 'singer': '张紫豪', 'song': '可不可以', 'song_url': 'http://www.kugou.com/song/mkt6v7f.html', 'song_time': '4:00'}\n",
      "{'rank': '19', 'singer': '王大毛', 'song': '去年夏天', 'song_url': 'http://www.kugou.com/song/mlcina9.html', 'song_time': '4:05'}\n",
      "{'rank': '20', 'singer': 'Olly Murs', 'song': 'That Girl', 'song_url': 'http://www.kugou.com/song/e2rkd4e.html', 'song_time': '2:57'}\n",
      "{'rank': '21', 'singer': '杨凯莉', 'song': '让我做你的眼睛', 'song_url': 'http://www.kugou.com/song/myaam1a.html', 'song_time': '1:46'}\n",
      "{'rank': '22', 'singer': '广东雨神', 'song': '广东爱情故事', 'song_url': 'http://www.kugou.com/song/hdust1f.html', 'song_time': '3:34'}\n"
     ]
    }
   ],
   "source": [
    "def get_info(url):\n",
    "    \n",
    "    headers = {\n",
    "        'User-Agent':'Mozilla/5.0 (Windows NT 6.1; WOW64) AppleWebKit/537.36 (KHTML, like Gecko) Chrome/63.0.3239.132 Safari/537.36'\n",
    "    }\n",
    "\n",
    "    r = requests.get(url,headers=headers)\n",
    "    soup = BeautifulSoup(r.text,'lxml')\n",
    "    ranks = soup.select('.pc_temp_num')\n",
    "    titles = soup.select('.pc_temp_songlist ul > li > a')\n",
    "    songs_time = soup.select('.pc_temp_time')\n",
    "    for rank,title,song_time in zip(ranks,titles,songs_time):\n",
    "        data = {\n",
    "            'rank':rank.get_text().strip(),\n",
    "            'singer':title.get_text().split('-')[0].strip(),\n",
    "            'song':title.get_text().split('-')[1].strip(),\n",
    "            'song_url':title['href'],\n",
    "            'song_time':song_time.get_text().strip()\n",
    "            \n",
    "        }\n",
    "        print(data)\n",
    "url = 'http://www.kugou.com/yy/rank/home/1-8888.html?from=rank'       \n",
    "get_info(url)\n",
    "        "
   ]
  },
  {
   "cell_type": "code",
   "execution_count": 39,
   "metadata": {},
   "outputs": [
    {
     "name": "stdout",
     "output_type": "stream",
     "text": [
      "http://www.kugou.com/yy/rank/home/1-8888.html?from=rank\n",
      "http://www.kugou.com/yy/rank/home/2-8888.html?from=rank\n",
      "http://www.kugou.com/yy/rank/home/3-8888.html?from=rank\n",
      "http://www.kugou.com/yy/rank/home/4-8888.html?from=rank\n",
      "http://www.kugou.com/yy/rank/home/5-8888.html?from=rank\n",
      "http://www.kugou.com/yy/rank/home/6-8888.html?from=rank\n",
      "http://www.kugou.com/yy/rank/home/7-8888.html?from=rank\n",
      "http://www.kugou.com/yy/rank/home/8-8888.html?from=rank\n",
      "http://www.kugou.com/yy/rank/home/9-8888.html?from=rank\n",
      "http://www.kugou.com/yy/rank/home/10-8888.html?from=rank\n",
      "http://www.kugou.com/yy/rank/home/11-8888.html?from=rank\n",
      "http://www.kugou.com/yy/rank/home/12-8888.html?from=rank\n",
      "http://www.kugou.com/yy/rank/home/13-8888.html?from=rank\n",
      "http://www.kugou.com/yy/rank/home/14-8888.html?from=rank\n",
      "http://www.kugou.com/yy/rank/home/15-8888.html?from=rank\n",
      "http://www.kugou.com/yy/rank/home/16-8888.html?from=rank\n",
      "http://www.kugou.com/yy/rank/home/17-8888.html?from=rank\n",
      "http://www.kugou.com/yy/rank/home/18-8888.html?from=rank\n",
      "http://www.kugou.com/yy/rank/home/19-8888.html?from=rank\n",
      "http://www.kugou.com/yy/rank/home/20-8888.html?from=rank\n",
      "http://www.kugou.com/yy/rank/home/21-8888.html?from=rank\n",
      "http://www.kugou.com/yy/rank/home/22-8888.html?from=rank\n",
      "http://www.kugou.com/yy/rank/home/23-8888.html?from=rank\n"
     ]
    }
   ],
   "source": [
    "urls = ['http://www.kugou.com/yy/rank/home/{}-8888.html?from=rank'.format(str(i)) for i in range(1,24)]\n",
    "for url in urls:\n",
    "    print(url)"
   ]
  },
  {
   "cell_type": "code",
   "execution_count": 40,
   "metadata": {},
   "outputs": [
    {
     "name": "stdout",
     "output_type": "stream",
     "text": [
      "{'rank': '1', 'singer': 'Christine Welch', 'song': '一百万个可能', 'song_url': 'http://www.kugou.com/song/2pgtbd9.html', 'song_time': '4:35'}\n",
      "{'rank': '2', 'singer': '火箭少女101', 'song': '卡路里', 'song_url': 'http://www.kugou.com/song/o35k304.html', 'song_time': '3:52'}\n",
      "{'rank': '3', 'singer': '蔡维泽', 'song': '你终究不爱这世界 (Live)', 'song_url': 'http://www.kugou.com/song/pm5wzf5.html', 'song_time': '4:13'}\n",
      "{'rank': '4', 'singer': '庄心妍', 'song': '再见只是陌生人', 'song_url': 'http://www.kugou.com/song/b273d85.html', 'song_time': '4:12'}\n",
      "{'rank': '5', 'singer': '黑龙', 'song': '38度6', 'song_url': 'http://www.kugou.com/song/ootaieb.html', 'song_time': '3:11'}\n",
      "{'rank': '6', 'singer': '九局', 'song': '我已经爱上你', 'song_url': 'http://www.kugou.com/song/o227837.html', 'song_time': '1:32'}\n",
      "{'rank': '7', 'singer': '王北车', 'song': '陷阱', 'song_url': 'http://www.kugou.com/song/ngbn41a.html', 'song_time': '4:40'}\n",
      "{'rank': '8', 'singer': '张北北', 'song': '拥抱你离去', 'song_url': 'http://www.kugou.com/song/b8rfh51.html', 'song_time': '4:02'}\n",
      "{'rank': '9', 'singer': '刘子璇', 'song': '嘴巴嘟嘟', 'song_url': 'http://www.kugou.com/song/9mske39.html', 'song_time': '4:08'}\n",
      "{'rank': '10', 'singer': '小潘潘、小峰峰', 'song': '学猫叫', 'song_url': 'http://www.kugou.com/song/mfv56b9.html', 'song_time': '3:29'}\n",
      "{'rank': '11', 'singer': '艾歌', 'song': '一曲红尘', 'song_url': 'http://www.kugou.com/song/imj2ue2.html', 'song_time': '4:25'}\n",
      "{'rank': '12', 'singer': '阿里郎', 'song': '隔壁泰山', 'song_url': 'http://www.kugou.com/song/n9vjgc2.html', 'song_time': '3:19'}\n",
      "{'rank': '13', 'singer': '袁娅维', 'song': '说散就散', 'song_url': 'http://www.kugou.com/song/l8twoe8.html', 'song_time': '4:02'}\n",
      "{'rank': '14', 'singer': '胡66', 'song': '空空如也', 'song_url': 'http://www.kugou.com/song/lfyi01a.html', 'song_time': '3:31'}\n",
      "{'rank': '15', 'singer': 'G.E.M.邓紫棋', 'song': '倒数', 'song_url': 'http://www.kugou.com/song/ojv0552.html', 'song_time': '3:49'}\n",
      "{'rank': '16', 'singer': '李俊佑', 'song': '醉千年', 'song_url': 'http://www.kugou.com/song/oa2qfa1.html', 'song_time': '3:40'}\n",
      "{'rank': '17', 'singer': '王大毛', 'song': '去年夏天', 'song_url': 'http://www.kugou.com/song/mlcina9.html', 'song_time': '4:05'}\n",
      "{'rank': '18', 'singer': '杨凯莉', 'song': '让我做你的眼睛', 'song_url': 'http://www.kugou.com/song/myaam1a.html', 'song_time': '1:46'}\n",
      "{'rank': '19', 'singer': '广东雨神', 'song': '广东爱情故事', 'song_url': 'http://www.kugou.com/song/hdust1f.html', 'song_time': '3:34'}\n",
      "{'rank': '20', 'singer': 'Olly Murs', 'song': 'That Girl', 'song_url': 'http://www.kugou.com/song/e2rkd4e.html', 'song_time': '2:57'}\n",
      "{'rank': '21', 'singer': '烟把儿乐队', 'song': '纸短情长 (完整版)', 'song_url': 'http://www.kugou.com/song/mcmv8d1.html', 'song_time': '2:53'}\n",
      "{'rank': '22', 'singer': '摩登兄弟', 'song': '走马', 'song_url': 'http://www.kugou.com/song/pm0w9e7.html', 'song_time': '4:15'}\n",
      "{'rank': '23', 'singer': '曾惜', 'song': '讲真的', 'song_url': 'http://www.kugou.com/song/6ush519.html', 'song_time': '3:59'}\n",
      "{'rank': '24', 'singer': '金贵晟', 'song': '虹之间', 'song_url': 'http://www.kugou.com/song/1hxko85.html', 'song_time': '4:06'}\n",
      "{'rank': '25', 'singer': '旭日阳刚刘刚', 'song': '怀念青春', 'song_url': 'http://www.kugou.com/song/1iwxw84.html', 'song_time': '4:28'}\n",
      "{'rank': '26', 'singer': '张紫豪', 'song': '可不可以', 'song_url': 'http://www.kugou.com/song/mkt6v7f.html', 'song_time': '4:00'}\n",
      "{'rank': '27', 'singer': '庄心妍', 'song': '走着走着就散了', 'song_url': 'http://www.kugou.com/song/b4e7e33.html', 'song_time': '4:28'}\n",
      "{'rank': '28', 'singer': '周笔畅', 'song': '最美的期待', 'song_url': 'http://www.kugou.com/song/luwa9f4.html', 'song_time': '3:30'}\n",
      "{'rank': '29', 'singer': 'G.E.M.邓紫棋', 'song': '光年之外', 'song_url': 'http://www.kugou.com/song/eoo8m01.html', 'song_time': '3:55'}\n",
      "{'rank': '30', 'singer': '周杰伦', 'song': '告白气球', 'song_url': 'http://www.kugou.com/song/d5c5m23.html', 'song_time': '3:36'}\n",
      "{'rank': '31', 'singer': '季彦霖', 'song': '你根本不懂', 'song_url': 'http://www.kugou.com/song/lj3td4a.html', 'song_time': '3:28'}\n",
      "{'rank': '32', 'singer': '蒙面哥', 'song': '我已经爱上你', 'song_url': 'http://www.kugou.com/song/of0nvb3.html', 'song_time': '3:21'}\n",
      "{'rank': '33', 'singer': '胡66、单色凌', 'song': '浪人琵琶', 'song_url': 'http://www.kugou.com/song/n4ug035.html', 'song_time': '3:44'}\n",
      "{'rank': '34', 'singer': '刘若英', 'song': '后来', 'song_url': 'http://www.kugou.com/song/78d705.html', 'song_time': '5:41'}\n",
      "{'rank': '35', 'singer': '曲肖冰', 'song': '卡布奇诺', 'song_url': 'http://www.kugou.com/song/orp1c6e.html', 'song_time': '2:58'}\n",
      "{'rank': '36', 'singer': '徐若汐', 'song': '从你的世界路过', 'song_url': 'http://www.kugou.com/song/lxx3hfb.html', 'song_time': '3:49'}\n",
      "{'rank': '37', 'singer': '大壮', 'song': '我们不一样', 'song_url': 'http://www.kugou.com/song/g0lv712.html', 'song_time': '4:31'}\n",
      "{'rank': '38', 'singer': '王琪', 'song': '情人迷', 'song_url': 'http://www.kugou.com/song/ggt5748.html', 'song_time': '4:34'}\n",
      "{'rank': '39', 'singer': '毛不易', 'song': '消愁 (Live)', 'song_url': 'http://www.kugou.com/song/gf96d56.html', 'song_time': '2:59'}\n",
      "{'rank': '40', 'singer': '王奕心', 'song': '我的唇吻不到我爱的人', 'song_url': 'http://www.kugou.com/song/96lwwa0.html', 'song_time': '4:39'}\n",
      "{'rank': '41', 'singer': '白小白', 'song': '最后我们没在一起', 'song_url': 'http://www.kugou.com/song/lygqk02.html', 'song_time': '3:19'}\n",
      "{'rank': '42', 'singer': '杨宗纬、张碧晨', 'song': '凉凉', 'song_url': 'http://www.kugou.com/song/eqi2pe8.html', 'song_time': '5:33'}\n",
      "{'rank': '43', 'singer': 'Fitz & The Tantrums', 'song': 'HandClap', 'song_url': 'http://www.kugou.com/song/cjij5ca.html', 'song_time': '3:13'}\n",
      "{'rank': '44', 'singer': '白小白', 'song': '我们终究是错过', 'song_url': 'http://www.kugou.com/song/ntyw0ca.html', 'song_time': '3:40'}\n"
     ]
    }
   ],
   "source": [
    "import time\n",
    "urls = ['http://www.kugou.com/yy/rank/home/{}-8888.html?from=rank'.format(str(i)) for i in range(1,3)]\n",
    "for url in urls:\n",
    "    get_info(url)\n",
    "    time.sleep(1)"
   ]
  },
  {
   "cell_type": "code",
   "execution_count": null,
   "metadata": {},
   "outputs": [],
   "source": []
  },
  {
   "cell_type": "code",
   "execution_count": null,
   "metadata": {},
   "outputs": [],
   "source": []
  },
  {
   "cell_type": "code",
   "execution_count": null,
   "metadata": {},
   "outputs": [],
   "source": []
  },
  {
   "cell_type": "code",
   "execution_count": null,
   "metadata": {},
   "outputs": [],
   "source": []
  }
 ],
 "metadata": {
  "kernelspec": {
   "display_name": "Python 3",
   "language": "python",
   "name": "python3"
  },
  "language_info": {
   "codemirror_mode": {
    "name": "ipython",
    "version": 3
   },
   "file_extension": ".py",
   "mimetype": "text/x-python",
   "name": "python",
   "nbconvert_exporter": "python",
   "pygments_lexer": "ipython3",
   "version": "3.6.4"
  }
 },
 "nbformat": 4,
 "nbformat_minor": 2
}
